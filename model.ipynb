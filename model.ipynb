{
 "cells": [
  {
   "cell_type": "code",
   "execution_count": null,
   "id": "4611052f",
   "metadata": {},
   "outputs": [
    {
     "name": "stdout",
     "output_type": "stream",
     "text": [
      "Starting Load Forecasting\n",
      "Target Building ID for this run: ICT\n",
      "Training Building IDs: ['U06, U06A, U05B', 'U05, U04, U04B, GEO', 'LIB', 'MEK', 'SOC', 'S01', 'OBS', 'TEG', 'D04']\n",
      "Lag features: [1, 2, 24, 168]\n",
      "Rolling window features: [3, 6, 12, 24, 72, 168]\n",
      "\n",
      "--- 1. Loading and Preparing Data ---\n",
      "Target Building 'ICT': Known: 2023-01-01 00:00:00 to 2023-02-28 23:00:00, Forecast: 2023-03-01 00:00:00 to 2023-12-31 23:00:00\n",
      "\n",
      "--- 2. Engineering Load-Specific Features ---\n",
      "  Generating lag features: [1, 2, 24, 168]\n",
      "  Generating rolling window features for windows: [3, 6, 12, 24, 72, 168]\n"
     ]
    },
    {
     "name": "stderr",
     "output_type": "stream",
     "text": [
      "[I 2025-05-15 14:38:43,226] A new study created in memory with name: general_model_tscv_ICT_iter1\n"
     ]
    },
    {
     "name": "stdout",
     "output_type": "stream",
     "text": [
      "Total features for model (after adding rolling windows): 51\n",
      "\n",
      "--- 3. Preparing Full Data for General Model TSCV ---\n",
      "\n",
      "--- Optuna: Tuning General Model with TimeSeriesSplit (50 trials) ---\n"
     ]
    },
    {
     "name": "stderr",
     "output_type": "stream",
     "text": [
      "Best trial: 0. Best value: 4.52969:   2%|▏         | 1/50 [00:15<12:23, 15.17s/it]"
     ]
    },
    {
     "name": "stdout",
     "output_type": "stream",
     "text": [
      "[I 2025-05-15 14:38:58,391] Trial 0 finished with value: 4.529694603755091 and parameters: {'n_estimators_general': 900, 'learning_rate_general': 0.02200546858537131, 'num_leaves_general': 90, 'feature_fraction_general': 0.46309214150227396, 'bagging_fraction_general': 0.9291252566592622, 'bagging_freq_general': 6, 'min_child_samples_general': 36, 'reg_alpha_general': 0.006692775310255614, 'reg_lambda_general': 0.1431708780045997}. Best is trial 0 with value: 4.529694603755091.\n"
     ]
    },
    {
     "name": "stderr",
     "output_type": "stream",
     "text": [
      "Best trial: 1. Best value: 4.42488:   4%|▍         | 2/50 [00:31<12:43, 15.90s/it]"
     ]
    },
    {
     "name": "stdout",
     "output_type": "stream",
     "text": [
      "[I 2025-05-15 14:39:14,801] Trial 1 finished with value: 4.424876673261399 and parameters: {'n_estimators_general': 2000, 'learning_rate_general': 0.026928110361247013, 'num_leaves_general': 48, 'feature_fraction_general': 0.817572016257603, 'bagging_fraction_general': 0.8837532407086542, 'bagging_freq_general': 2, 'min_child_samples_general': 13, 'reg_alpha_general': 0.0010950978466916128, 'reg_lambda_general': 0.674420104067406}. Best is trial 1 with value: 4.424876673261399.\n"
     ]
    },
    {
     "name": "stderr",
     "output_type": "stream",
     "text": [
      "Best trial: 1. Best value: 4.42488:   6%|▌         | 3/50 [00:39<09:41, 12.38s/it]"
     ]
    },
    {
     "name": "stdout",
     "output_type": "stream",
     "text": [
      "[I 2025-05-15 14:39:22,989] Trial 2 finished with value: 4.577125889618779 and parameters: {'n_estimators_general': 2500, 'learning_rate_general': 0.08821608828035259, 'num_leaves_general': 121, 'feature_fraction_general': 0.5327377629476069, 'bagging_fraction_general': 0.8609142255698372, 'bagging_freq_general': 5, 'min_child_samples_general': 28, 'reg_alpha_general': 0.01398654117541592, 'reg_lambda_general': 9.249811512861626}. Best is trial 1 with value: 4.424876673261399.\n"
     ]
    },
    {
     "name": "stderr",
     "output_type": "stream",
     "text": [
      "Best trial: 1. Best value: 4.42488:   8%|▊         | 4/50 [01:36<22:54, 29.88s/it]"
     ]
    },
    {
     "name": "stdout",
     "output_type": "stream",
     "text": [
      "[I 2025-05-15 14:40:19,693] Trial 3 finished with value: 4.479113120721215 and parameters: {'n_estimators_general': 2000, 'learning_rate_general': 0.008807539651807306, 'num_leaves_general': 141, 'feature_fraction_general': 0.6853235256926499, 'bagging_fraction_general': 0.7844018891656042, 'bagging_freq_general': 2, 'min_child_samples_general': 77, 'reg_alpha_general': 0.0014559132236002799, 'reg_lambda_general': 0.06855096820357615}. Best is trial 1 with value: 4.424876673261399.\n"
     ]
    },
    {
     "name": "stderr",
     "output_type": "stream",
     "text": [
      "Best trial: 4. Best value: 4.41812:  10%|█         | 5/50 [01:50<18:11, 24.26s/it]"
     ]
    },
    {
     "name": "stdout",
     "output_type": "stream",
     "text": [
      "[I 2025-05-15 14:40:33,999] Trial 4 finished with value: 4.418121147276375 and parameters: {'n_estimators_general': 1000, 'learning_rate_general': 0.030204691396019254, 'num_leaves_general': 113, 'feature_fraction_general': 0.5567448628101632, 'bagging_fraction_general': 0.5569920650390783, 'bagging_freq_general': 1, 'min_child_samples_general': 44, 'reg_alpha_general': 1.1390101771583472, 'reg_lambda_general': 4.164296646192122}. Best is trial 4 with value: 4.418121147276375.\n"
     ]
    },
    {
     "name": "stderr",
     "output_type": "stream",
     "text": [
      "Best trial: 5. Best value: 4.38091:  12%|█▏        | 6/50 [02:01<14:32, 19.82s/it]"
     ]
    },
    {
     "name": "stdout",
     "output_type": "stream",
     "text": [
      "[I 2025-05-15 14:40:45,211] Trial 5 finished with value: 4.380909587002524 and parameters: {'n_estimators_general': 800, 'learning_rate_general': 0.07215460082383304, 'num_leaves_general': 146, 'feature_fraction_general': 0.9219888443335773, 'bagging_fraction_general': 0.6358900912951712, 'bagging_freq_general': 4, 'min_child_samples_general': 50, 'reg_alpha_general': 0.002380944578849722, 'reg_lambda_general': 0.327964253955688}. Best is trial 5 with value: 4.380909587002524.\n"
     ]
    },
    {
     "name": "stderr",
     "output_type": "stream",
     "text": [
      "Best trial: 5. Best value: 4.38091:  14%|█▍        | 7/50 [02:26<15:15, 21.30s/it]"
     ]
    },
    {
     "name": "stdout",
     "output_type": "stream",
     "text": [
      "[I 2025-05-15 14:41:09,533] Trial 6 finished with value: 4.519794470519258 and parameters: {'n_estimators_general': 2100, 'learning_rate_general': 0.012814047876945161, 'num_leaves_general': 39, 'feature_fraction_general': 0.4856401545542539, 'bagging_fraction_general': 0.9119209707050685, 'bagging_freq_general': 1, 'min_child_samples_general': 31, 'reg_alpha_general': 7.136071145534751, 'reg_lambda_general': 0.1819339028948799}. Best is trial 5 with value: 4.380909587002524.\n"
     ]
    },
    {
     "name": "stderr",
     "output_type": "stream",
     "text": [
      "Best trial: 5. Best value: 4.38091:  16%|█▌        | 8/50 [02:49<15:19, 21.90s/it]"
     ]
    },
    {
     "name": "stdout",
     "output_type": "stream",
     "text": [
      "[I 2025-05-15 14:41:32,728] Trial 7 finished with value: 4.449989255342635 and parameters: {'n_estimators_general': 2400, 'learning_rate_general': 0.015797687163750004, 'num_leaves_general': 83, 'feature_fraction_general': 0.7646773666221447, 'bagging_fraction_general': 0.8642743480925683, 'bagging_freq_general': 5, 'min_child_samples_general': 18, 'reg_alpha_general': 5.613143941136963, 'reg_lambda_general': 2.824298966377359}. Best is trial 5 with value: 4.380909587002524.\n"
     ]
    },
    {
     "name": "stderr",
     "output_type": "stream",
     "text": [
      "Best trial: 5. Best value: 4.38091:  18%|█▊        | 9/50 [03:06<13:50, 20.25s/it]"
     ]
    },
    {
     "name": "stdout",
     "output_type": "stream",
     "text": [
      "[I 2025-05-15 14:41:49,356] Trial 8 finished with value: 4.480306651644153 and parameters: {'n_estimators_general': 1400, 'learning_rate_general': 0.019930295793046445, 'num_leaves_general': 57, 'feature_fraction_general': 0.46608252028283825, 'bagging_fraction_general': 0.6388854080271339, 'bagging_freq_general': 5, 'min_child_samples_general': 92, 'reg_alpha_general': 0.2516220018164635, 'reg_lambda_general': 0.00892120059007484}. Best is trial 5 with value: 4.380909587002524.\n"
     ]
    },
    {
     "name": "stderr",
     "output_type": "stream",
     "text": [
      "Best trial: 9. Best value: 4.37549:  20%|██        | 10/50 [03:30<14:19, 21.49s/it]"
     ]
    },
    {
     "name": "stdout",
     "output_type": "stream",
     "text": [
      "[I 2025-05-15 14:42:13,623] Trial 9 finished with value: 4.3754873822399665 and parameters: {'n_estimators_general': 2200, 'learning_rate_general': 0.018755476613371153, 'num_leaves_general': 122, 'feature_fraction_general': 0.7253105921164509, 'bagging_fraction_general': 0.8551278462102074, 'bagging_freq_general': 3, 'min_child_samples_general': 52, 'reg_alpha_general': 1.7423114459059996, 'reg_lambda_general': 0.11959273480752675}. Best is trial 9 with value: 4.3754873822399665.\n"
     ]
    },
    {
     "name": "stderr",
     "output_type": "stream",
     "text": [
      "Best trial: 9. Best value: 4.37549:  22%|██▏       | 11/50 [04:13<18:21, 28.24s/it]"
     ]
    },
    {
     "name": "stdout",
     "output_type": "stream",
     "text": [
      "[I 2025-05-15 14:42:57,177] Trial 10 finished with value: 4.52181672384554 and parameters: {'n_estimators_general': 1600, 'learning_rate_general': 0.005013222099203035, 'num_leaves_general': 95, 'feature_fraction_general': 0.6483722065642377, 'bagging_fraction_general': 0.4406701098875204, 'bagging_freq_general': 3, 'min_child_samples_general': 69, 'reg_alpha_general': 0.17316120206893465, 'reg_lambda_general': 0.004810322881386648}. Best is trial 9 with value: 4.3754873822399665.\n"
     ]
    },
    {
     "name": "stderr",
     "output_type": "stream",
     "text": [
      "Best trial: 11. Best value: 4.35475:  24%|██▍       | 12/50 [04:25<14:41, 23.20s/it]"
     ]
    },
    {
     "name": "stdout",
     "output_type": "stream",
     "text": [
      "[I 2025-05-15 14:43:08,823] Trial 11 finished with value: 4.354754868910517 and parameters: {'n_estimators_general': 1200, 'learning_rate_general': 0.056950700953207437, 'num_leaves_general': 145, 'feature_fraction_general': 0.9623123297508388, 'bagging_fraction_general': 0.7434453901764434, 'bagging_freq_general': 3, 'min_child_samples_general': 58, 'reg_alpha_general': 0.028466650785692688, 'reg_lambda_general': 0.027556697850582217}. Best is trial 11 with value: 4.354754868910517.\n"
     ]
    },
    {
     "name": "stderr",
     "output_type": "stream",
     "text": [
      "Best trial: 11. Best value: 4.35475:  26%|██▌       | 13/50 [04:37<12:15, 19.87s/it]"
     ]
    },
    {
     "name": "stdout",
     "output_type": "stream",
     "text": [
      "[I 2025-05-15 14:43:21,032] Trial 12 finished with value: 4.393392509002848 and parameters: {'n_estimators_general': 1300, 'learning_rate_general': 0.04718949578169975, 'num_leaves_general': 126, 'feature_fraction_general': 0.9741385516282881, 'bagging_fraction_general': 0.7175738064558552, 'bagging_freq_general': 3, 'min_child_samples_general': 68, 'reg_alpha_general': 0.029648537619670144, 'reg_lambda_general': 0.027277161076420427}. Best is trial 11 with value: 4.354754868910517.\n"
     ]
    },
    {
     "name": "stderr",
     "output_type": "stream",
     "text": [
      "Best trial: 11. Best value: 4.35475:  28%|██▊       | 14/50 [04:55<11:28, 19.14s/it]"
     ]
    },
    {
     "name": "stdout",
     "output_type": "stream",
     "text": [
      "[I 2025-05-15 14:43:38,485] Trial 13 finished with value: 4.398725936438896 and parameters: {'n_estimators_general': 1300, 'learning_rate_general': 0.043153011794707846, 'num_leaves_general': 147, 'feature_fraction_general': 0.867489504903954, 'bagging_fraction_general': 0.999967685054263, 'bagging_freq_general': 3, 'min_child_samples_general': 65, 'reg_alpha_general': 0.827835259879088, 'reg_lambda_general': 0.0017670861134773841}. Best is trial 11 with value: 4.354754868910517.\n"
     ]
    },
    {
     "name": "stderr",
     "output_type": "stream",
     "text": [
      "Best trial: 11. Best value: 4.35475:  30%|███       | 15/50 [05:05<09:31, 16.34s/it]"
     ]
    },
    {
     "name": "stdout",
     "output_type": "stream",
     "text": [
      "[I 2025-05-15 14:43:48,332] Trial 14 finished with value: 4.388463436279563 and parameters: {'n_estimators_general': 1800, 'learning_rate_general': 0.050937642825388624, 'num_leaves_general': 106, 'feature_fraction_general': 0.9978802714460396, 'bagging_fraction_general': 0.7618140841357969, 'bagging_freq_general': 7, 'min_child_samples_general': 57, 'reg_alpha_general': 0.03526879629432511, 'reg_lambda_general': 0.027512282988910865}. Best is trial 11 with value: 4.354754868910517.\n"
     ]
    },
    {
     "name": "stderr",
     "output_type": "stream",
     "text": [
      "Best trial: 11. Best value: 4.35475:  32%|███▏      | 16/50 [06:12<17:57, 31.68s/it]"
     ]
    },
    {
     "name": "stdout",
     "output_type": "stream",
     "text": [
      "[I 2025-05-15 14:44:55,651] Trial 15 finished with value: 4.502353752798946 and parameters: {'n_estimators_general': 1100, 'learning_rate_general': 0.009341059484842828, 'num_leaves_general': 132, 'feature_fraction_general': 0.7601480395900213, 'bagging_fraction_general': 0.7962724532986772, 'bagging_freq_general': 4, 'min_child_samples_general': 96, 'reg_alpha_general': 1.0509092417124313, 'reg_lambda_general': 0.037349791576602946}. Best is trial 11 with value: 4.354754868910517.\n"
     ]
    },
    {
     "name": "stderr",
     "output_type": "stream",
     "text": [
      "Best trial: 11. Best value: 4.35475:  34%|███▍      | 17/50 [06:39<16:40, 30.32s/it]"
     ]
    },
    {
     "name": "stdout",
     "output_type": "stream",
     "text": [
      "[I 2025-05-15 14:45:22,793] Trial 16 finished with value: 4.395146232176052 and parameters: {'n_estimators_general': 2200, 'learning_rate_general': 0.033283978670273044, 'num_leaves_general': 70, 'feature_fraction_general': 0.6149942249126871, 'bagging_fraction_general': 0.6560872276553635, 'bagging_freq_general': 2, 'min_child_samples_general': 82, 'reg_alpha_general': 0.0821630039781265, 'reg_lambda_general': 1.1835911025175527}. Best is trial 11 with value: 4.354754868910517.\n"
     ]
    },
    {
     "name": "stderr",
     "output_type": "stream",
     "text": [
      "Best trial: 17. Best value: 4.34363:  36%|███▌      | 18/50 [07:01<14:47, 27.73s/it]"
     ]
    },
    {
     "name": "stdout",
     "output_type": "stream",
     "text": [
      "[I 2025-05-15 14:45:44,487] Trial 17 finished with value: 4.343630662961624 and parameters: {'n_estimators_general': 1700, 'learning_rate_general': 0.06662661164125176, 'num_leaves_general': 107, 'feature_fraction_general': 0.8747715856514202, 'bagging_fraction_general': 0.570445791994991, 'bagging_freq_general': 3, 'min_child_samples_general': 56, 'reg_alpha_general': 0.4050767336110839, 'reg_lambda_general': 0.00857356192601807}. Best is trial 17 with value: 4.343630662961624.\n"
     ]
    },
    {
     "name": "stderr",
     "output_type": "stream",
     "text": [
      "Best trial: 18. Best value: 4.28768:  38%|███▊      | 19/50 [07:10<11:22, 22.02s/it]"
     ]
    },
    {
     "name": "stdout",
     "output_type": "stream",
     "text": [
      "[I 2025-05-15 14:45:53,230] Trial 18 finished with value: 4.2876834439489375 and parameters: {'n_estimators_general': 1600, 'learning_rate_general': 0.06813951066168396, 'num_leaves_general': 23, 'feature_fraction_general': 0.8847254792672147, 'bagging_fraction_general': 0.5354688812303978, 'bagging_freq_general': 4, 'min_child_samples_general': 39, 'reg_alpha_general': 0.08355655991113851, 'reg_lambda_general': 0.0010058439342123283}. Best is trial 18 with value: 4.2876834439489375.\n"
     ]
    },
    {
     "name": "stderr",
     "output_type": "stream",
     "text": [
      "Best trial: 18. Best value: 4.28768:  40%|████      | 20/50 [07:16<08:38, 17.29s/it]"
     ]
    },
    {
     "name": "stdout",
     "output_type": "stream",
     "text": [
      "[I 2025-05-15 14:45:59,500] Trial 19 finished with value: 4.482764498280275 and parameters: {'n_estimators_general': 1600, 'learning_rate_general': 0.08289900775642071, 'num_leaves_general': 20, 'feature_fraction_general': 0.866939899781167, 'bagging_fraction_general': 0.504137383179518, 'bagging_freq_general': 6, 'min_child_samples_general': 44, 'reg_alpha_general': 0.35602864221524066, 'reg_lambda_general': 0.0011076010729318268}. Best is trial 18 with value: 4.2876834439489375.\n"
     ]
    },
    {
     "name": "stderr",
     "output_type": "stream",
     "text": [
      "Best trial: 20. Best value: 4.22927:  42%|████▏     | 21/50 [07:25<07:15, 15.01s/it]"
     ]
    },
    {
     "name": "stdout",
     "output_type": "stream",
     "text": [
      "[I 2025-05-15 14:46:09,180] Trial 20 finished with value: 4.229272766219699 and parameters: {'n_estimators_general': 1700, 'learning_rate_general': 0.06456087560986178, 'num_leaves_general': 22, 'feature_fraction_general': 0.8941737864861152, 'bagging_fraction_general': 0.5603786975407533, 'bagging_freq_general': 4, 'min_child_samples_general': 5, 'reg_alpha_general': 0.07444296606593248, 'reg_lambda_general': 0.0038742305377789644}. Best is trial 20 with value: 4.229272766219699.\n"
     ]
    },
    {
     "name": "stderr",
     "output_type": "stream",
     "text": [
      "Best trial: 20. Best value: 4.22927:  44%|████▍     | 22/50 [07:33<06:00, 12.88s/it]"
     ]
    },
    {
     "name": "stdout",
     "output_type": "stream",
     "text": [
      "[I 2025-05-15 14:46:17,086] Trial 21 finished with value: 4.345852023746941 and parameters: {'n_estimators_general': 1800, 'learning_rate_general': 0.06792541086297284, 'num_leaves_general': 24, 'feature_fraction_general': 0.8918000728433956, 'bagging_fraction_general': 0.5586690110187428, 'bagging_freq_general': 4, 'min_child_samples_general': 11, 'reg_alpha_general': 0.08628811828188793, 'reg_lambda_general': 0.0033463182707258597}. Best is trial 20 with value: 4.229272766219699.\n"
     ]
    },
    {
     "name": "stderr",
     "output_type": "stream",
     "text": [
      "Best trial: 20. Best value: 4.22927:  46%|████▌     | 23/50 [07:41<05:07, 11.40s/it]"
     ]
    },
    {
     "name": "stdout",
     "output_type": "stream",
     "text": [
      "[I 2025-05-15 14:46:25,033] Trial 22 finished with value: 4.388340590791502 and parameters: {'n_estimators_general': 1500, 'learning_rate_general': 0.09966006089271721, 'num_leaves_general': 35, 'feature_fraction_general': 0.8212857004345823, 'bagging_fraction_general': 0.4275524758827788, 'bagging_freq_general': 4, 'min_child_samples_general': 6, 'reg_alpha_general': 0.48732955938713113, 'reg_lambda_general': 0.007904851869491471}. Best is trial 20 with value: 4.229272766219699.\n"
     ]
    },
    {
     "name": "stderr",
     "output_type": "stream",
     "text": [
      "Best trial: 20. Best value: 4.22927:  48%|████▊     | 24/50 [08:04<06:24, 14.80s/it]"
     ]
    },
    {
     "name": "stdout",
     "output_type": "stream",
     "text": [
      "[I 2025-05-15 14:46:47,775] Trial 23 finished with value: 4.451203731907045 and parameters: {'n_estimators_general': 1800, 'learning_rate_general': 0.038335848419771716, 'num_leaves_general': 59, 'feature_fraction_general': 0.8180451852388032, 'bagging_fraction_general': 0.5327028921642638, 'bagging_freq_general': 4, 'min_child_samples_general': 25, 'reg_alpha_general': 0.13009747997861862, 'reg_lambda_general': 0.0020607611750446805}. Best is trial 20 with value: 4.229272766219699.\n"
     ]
    },
    {
     "name": "stderr",
     "output_type": "stream",
     "text": [
      "Best trial: 20. Best value: 4.22927:  50%|█████     | 25/50 [08:19<06:12, 14.91s/it]"
     ]
    },
    {
     "name": "stdout",
     "output_type": "stream",
     "text": [
      "[I 2025-05-15 14:47:02,939] Trial 24 finished with value: 4.277815435069707 and parameters: {'n_estimators_general': 1700, 'learning_rate_general': 0.06325459938792025, 'num_leaves_general': 75, 'feature_fraction_general': 0.9140766275166334, 'bagging_fraction_general': 0.49331294376398793, 'bagging_freq_general': 5, 'min_child_samples_general': 40, 'reg_alpha_general': 0.0642072349521758, 'reg_lambda_general': 0.001020088085835234}. Best is trial 20 with value: 4.229272766219699.\n"
     ]
    },
    {
     "name": "stderr",
     "output_type": "stream",
     "text": [
      "Best trial: 25. Best value: 4.21659:  52%|█████▏    | 26/50 [08:29<05:22, 13.45s/it]"
     ]
    },
    {
     "name": "stdout",
     "output_type": "stream",
     "text": [
      "[I 2025-05-15 14:47:12,969] Trial 25 finished with value: 4.216585286193528 and parameters: {'n_estimators_general': 1500, 'learning_rate_general': 0.056163110156592776, 'num_leaves_general': 28, 'feature_fraction_general': 0.9340452633586548, 'bagging_fraction_general': 0.4857320516419941, 'bagging_freq_general': 6, 'min_child_samples_general': 38, 'reg_alpha_general': 0.060238274607011984, 'reg_lambda_general': 0.0010789428873535826}. Best is trial 25 with value: 4.216585286193528.\n"
     ]
    },
    {
     "name": "stderr",
     "output_type": "stream",
     "text": [
      "Best trial: 25. Best value: 4.21659:  54%|█████▍    | 27/50 [08:43<05:11, 13.55s/it]"
     ]
    },
    {
     "name": "stdout",
     "output_type": "stream",
     "text": [
      "[I 2025-05-15 14:47:26,769] Trial 26 finished with value: 4.34636500494637 and parameters: {'n_estimators_general': 1400, 'learning_rate_general': 0.038183488712179234, 'num_leaves_general': 36, 'feature_fraction_general': 0.9361555882929348, 'bagging_fraction_general': 0.4737488443582863, 'bagging_freq_general': 6, 'min_child_samples_general': 22, 'reg_alpha_general': 0.01053834305196577, 'reg_lambda_general': 0.0032776816691621642}. Best is trial 25 with value: 4.216585286193528.\n"
     ]
    },
    {
     "name": "stderr",
     "output_type": "stream",
     "text": [
      "Best trial: 25. Best value: 4.21659:  56%|█████▌    | 28/50 [09:02<05:35, 15.25s/it]"
     ]
    },
    {
     "name": "stdout",
     "output_type": "stream",
     "text": [
      "[I 2025-05-15 14:47:45,975] Trial 27 finished with value: 4.414585080087947 and parameters: {'n_estimators_general': 1900, 'learning_rate_general': 0.05719468974207153, 'num_leaves_general': 75, 'feature_fraction_general': 0.9473083328370434, 'bagging_fraction_general': 0.40885571601881343, 'bagging_freq_general': 7, 'min_child_samples_general': 34, 'reg_alpha_general': 0.044606230928632085, 'reg_lambda_general': 0.0019742034121783825}. Best is trial 25 with value: 4.216585286193528.\n"
     ]
    },
    {
     "name": "stderr",
     "output_type": "stream",
     "text": [
      "Best trial: 25. Best value: 4.21659:  58%|█████▊    | 29/50 [09:24<05:58, 17.06s/it]"
     ]
    },
    {
     "name": "stdout",
     "output_type": "stream",
     "text": [
      "[I 2025-05-15 14:48:07,247] Trial 28 finished with value: 4.345113947780456 and parameters: {'n_estimators_general': 1500, 'learning_rate_general': 0.026074505319682865, 'num_leaves_general': 50, 'feature_fraction_general': 0.9128120256816731, 'bagging_fraction_general': 0.5965937140293497, 'bagging_freq_general': 5, 'min_child_samples_general': 44, 'reg_alpha_general': 0.01556579670493998, 'reg_lambda_general': 0.005382987483368208}. Best is trial 25 with value: 4.216585286193528.\n"
     ]
    },
    {
     "name": "stderr",
     "output_type": "stream",
     "text": [
      "Best trial: 25. Best value: 4.21659:  60%|██████    | 30/50 [09:32<04:49, 14.46s/it]"
     ]
    },
    {
     "name": "stdout",
     "output_type": "stream",
     "text": [
      "[I 2025-05-15 14:48:15,652] Trial 29 finished with value: 4.458560683653585 and parameters: {'n_estimators_general': 1700, 'learning_rate_general': 0.05486133300586432, 'num_leaves_general': 31, 'feature_fraction_general': 0.99857121298249, 'bagging_fraction_general': 0.4774641698729968, 'bagging_freq_general': 6, 'min_child_samples_general': 5, 'reg_alpha_general': 0.004689315730232718, 'reg_lambda_general': 0.014018611822728965}. Best is trial 25 with value: 4.216585286193528.\n"
     ]
    },
    {
     "name": "stderr",
     "output_type": "stream",
     "text": [
      "Best trial: 25. Best value: 4.21659:  62%|██████▏   | 31/50 [09:41<04:01, 12.73s/it]"
     ]
    },
    {
     "name": "stdout",
     "output_type": "stream",
     "text": [
      "[I 2025-05-15 14:48:24,329] Trial 30 finished with value: 4.51176821320202 and parameters: {'n_estimators_general': 1900, 'learning_rate_general': 0.09990606497486221, 'num_leaves_general': 46, 'feature_fraction_general': 0.781613893207131, 'bagging_fraction_general': 0.4760904365483208, 'bagging_freq_general': 7, 'min_child_samples_general': 38, 'reg_alpha_general': 0.005713286077866111, 'reg_lambda_general': 0.0010829927213456267}. Best is trial 25 with value: 4.216585286193528.\n"
     ]
    },
    {
     "name": "stderr",
     "output_type": "stream",
     "text": [
      "Best trial: 31. Best value: 4.20688:  64%|██████▍   | 32/50 [09:48<03:22, 11.23s/it]"
     ]
    },
    {
     "name": "stdout",
     "output_type": "stream",
     "text": [
      "[I 2025-05-15 14:48:32,080] Trial 31 finished with value: 4.206883626853507 and parameters: {'n_estimators_general': 1500, 'learning_rate_general': 0.07337974722426846, 'num_leaves_general': 25, 'feature_fraction_general': 0.8433465013998585, 'bagging_fraction_general': 0.5228469542478809, 'bagging_freq_general': 5, 'min_child_samples_general': 39, 'reg_alpha_general': 0.057713386936639965, 'reg_lambda_general': 0.0010569588217429573}. Best is trial 31 with value: 4.206883626853507.\n"
     ]
    },
    {
     "name": "stderr",
     "output_type": "stream",
     "text": [
      "Best trial: 31. Best value: 4.20688:  66%|██████▌   | 33/50 [09:56<02:53, 10.22s/it]"
     ]
    },
    {
     "name": "stdout",
     "output_type": "stream",
     "text": [
      "[I 2025-05-15 14:48:39,912] Trial 32 finished with value: 4.384663065477308 and parameters: {'n_estimators_general': 1500, 'learning_rate_general': 0.07571858152715351, 'num_leaves_general': 30, 'feature_fraction_general': 0.8229797488170025, 'bagging_fraction_general': 0.5934861364819232, 'bagging_freq_general': 6, 'min_child_samples_general': 18, 'reg_alpha_general': 0.05128292409559604, 'reg_lambda_general': 0.0022988325200948086}. Best is trial 31 with value: 4.206883626853507.\n"
     ]
    },
    {
     "name": "stderr",
     "output_type": "stream",
     "text": [
      "Best trial: 31. Best value: 4.20688:  68%|██████▊   | 34/50 [10:16<03:29, 13.07s/it]"
     ]
    },
    {
     "name": "stdout",
     "output_type": "stream",
     "text": [
      "[I 2025-05-15 14:48:59,668] Trial 33 finished with value: 4.364738516689002 and parameters: {'n_estimators_general': 1300, 'learning_rate_general': 0.0425157350650354, 'num_leaves_general': 63, 'feature_fraction_general': 0.8354456263472567, 'bagging_fraction_general': 0.5052904966548789, 'bagging_freq_general': 5, 'min_child_samples_general': 30, 'reg_alpha_general': 0.021243322251912177, 'reg_lambda_general': 0.0035082625678621395}. Best is trial 31 with value: 4.206883626853507.\n"
     ]
    },
    {
     "name": "stderr",
     "output_type": "stream",
     "text": [
      "Best trial: 31. Best value: 4.20688:  70%|███████   | 35/50 [10:28<03:12, 12.86s/it]"
     ]
    },
    {
     "name": "stdout",
     "output_type": "stream",
     "text": [
      "[I 2025-05-15 14:49:12,031] Trial 34 finished with value: 4.360620640738153 and parameters: {'n_estimators_general': 1700, 'learning_rate_general': 0.06079853362838269, 'num_leaves_general': 47, 'feature_fraction_general': 0.9163742625514272, 'bagging_fraction_general': 0.4491526836388928, 'bagging_freq_general': 5, 'min_child_samples_general': 38, 'reg_alpha_general': 0.05703358150177866, 'reg_lambda_general': 0.0010318522348692638}. Best is trial 31 with value: 4.206883626853507.\n"
     ]
    },
    {
     "name": "stderr",
     "output_type": "stream",
     "text": [
      "Best trial: 31. Best value: 4.20688:  72%|███████▏  | 36/50 [10:39<02:50, 12.19s/it]"
     ]
    },
    {
     "name": "stdout",
     "output_type": "stream",
     "text": [
      "[I 2025-05-15 14:49:22,659] Trial 35 finished with value: 4.347466641859131 and parameters: {'n_estimators_general': 1400, 'learning_rate_general': 0.08364959864212991, 'num_leaves_general': 40, 'feature_fraction_general': 0.720475797402143, 'bagging_fraction_general': 0.6797494299709752, 'bagging_freq_general': 5, 'min_child_samples_general': 48, 'reg_alpha_general': 0.16145897013628474, 'reg_lambda_general': 0.001711695591881516}. Best is trial 31 with value: 4.206883626853507.\n"
     ]
    },
    {
     "name": "stderr",
     "output_type": "stream",
     "text": [
      "Best trial: 31. Best value: 4.20688:  74%|███████▍  | 37/50 [10:59<03:10, 14.69s/it]"
     ]
    },
    {
     "name": "stdout",
     "output_type": "stream",
     "text": [
      "[I 2025-05-15 14:49:43,186] Trial 36 finished with value: 4.4599095228068295 and parameters: {'n_estimators_general': 1900, 'learning_rate_general': 0.02513962130662187, 'num_leaves_general': 27, 'feature_fraction_general': 0.40537988284840026, 'bagging_fraction_general': 0.5999175278585542, 'bagging_freq_general': 6, 'min_child_samples_general': 14, 'reg_alpha_general': 0.011872794729552702, 'reg_lambda_general': 0.005277680448516823}. Best is trial 31 with value: 4.206883626853507.\n"
     ]
    },
    {
     "name": "stderr",
     "output_type": "stream",
     "text": [
      "Best trial: 31. Best value: 4.20688:  76%|███████▌  | 38/50 [11:27<03:43, 18.67s/it]"
     ]
    },
    {
     "name": "stdout",
     "output_type": "stream",
     "text": [
      "[I 2025-05-15 14:50:11,124] Trial 37 finished with value: 4.415742444102059 and parameters: {'n_estimators_general': 1100, 'learning_rate_general': 0.034298338517931785, 'num_leaves_general': 93, 'feature_fraction_general': 0.7795744726054867, 'bagging_fraction_general': 0.5153937109642585, 'bagging_freq_general': 6, 'min_child_samples_general': 25, 'reg_alpha_general': 0.21220988319582731, 'reg_lambda_general': 0.01384749794506289}. Best is trial 31 with value: 4.206883626853507.\n"
     ]
    },
    {
     "name": "stderr",
     "output_type": "stream",
     "text": [
      "Best trial: 31. Best value: 4.20688:  78%|███████▊  | 39/50 [11:36<02:51, 15.63s/it]"
     ]
    },
    {
     "name": "stdout",
     "output_type": "stream",
     "text": [
      "[I 2025-05-15 14:50:19,660] Trial 38 finished with value: 4.342107053516728 and parameters: {'n_estimators_general': 2000, 'learning_rate_general': 0.04670902331704413, 'num_leaves_general': 20, 'feature_fraction_general': 0.8438248116904506, 'bagging_fraction_general': 0.4083472690965562, 'bagging_freq_general': 5, 'min_child_samples_general': 33, 'reg_alpha_general': 0.0031773955478358834, 'reg_lambda_general': 0.0029889507863172936}. Best is trial 31 with value: 4.206883626853507.\n"
     ]
    },
    {
     "name": "stderr",
     "output_type": "stream",
     "text": [
      "Best trial: 31. Best value: 4.20688:  80%|████████  | 40/50 [11:51<02:33, 15.37s/it]"
     ]
    },
    {
     "name": "stdout",
     "output_type": "stream",
     "text": [
      "[I 2025-05-15 14:50:34,443] Trial 39 finished with value: 4.400423152076508 and parameters: {'n_estimators_general': 1500, 'learning_rate_general': 0.08015504900087293, 'num_leaves_general': 83, 'feature_fraction_general': 0.9704355241975929, 'bagging_fraction_general': 0.6223615498585665, 'bagging_freq_general': 5, 'min_child_samples_general': 62, 'reg_alpha_general': 0.01970483523775213, 'reg_lambda_general': 0.07110717422003487}. Best is trial 31 with value: 4.206883626853507.\n"
     ]
    },
    {
     "name": "stderr",
     "output_type": "stream",
     "text": [
      "Best trial: 31. Best value: 4.20688:  82%|████████▏ | 41/50 [12:02<02:07, 14.13s/it]"
     ]
    },
    {
     "name": "stdout",
     "output_type": "stream",
     "text": [
      "[I 2025-05-15 14:50:45,682] Trial 40 finished with value: 4.276311505479367 and parameters: {'n_estimators_general': 900, 'learning_rate_general': 0.06268154968097912, 'num_leaves_general': 41, 'feature_fraction_general': 0.9087237048536303, 'bagging_fraction_general': 0.46536279272002157, 'bagging_freq_general': 4, 'min_child_samples_general': 42, 'reg_alpha_general': 0.11625965029162051, 'reg_lambda_general': 0.001538340310310368}. Best is trial 31 with value: 4.206883626853507.\n"
     ]
    },
    {
     "name": "stderr",
     "output_type": "stream",
     "text": [
      "Best trial: 31. Best value: 4.20688:  84%|████████▍ | 42/50 [12:11<01:41, 12.74s/it]"
     ]
    },
    {
     "name": "stdout",
     "output_type": "stream",
     "text": [
      "[I 2025-05-15 14:50:55,173] Trial 41 finished with value: 4.439203594458101 and parameters: {'n_estimators_general': 900, 'learning_rate_general': 0.06280645834293694, 'num_leaves_general': 41, 'feature_fraction_general': 0.9039080675046216, 'bagging_fraction_general': 0.46782547167897154, 'bagging_freq_general': 4, 'min_child_samples_general': 45, 'reg_alpha_general': 0.06440646908857732, 'reg_lambda_general': 0.0016727362593460017}. Best is trial 31 with value: 4.206883626853507.\n"
     ]
    },
    {
     "name": "stderr",
     "output_type": "stream",
     "text": [
      "Best trial: 31. Best value: 4.20688:  86%|████████▌ | 43/50 [12:22<01:24, 12.04s/it]"
     ]
    },
    {
     "name": "stdout",
     "output_type": "stream",
     "text": [
      "[I 2025-05-15 14:51:05,558] Trial 42 finished with value: 4.308735423824497 and parameters: {'n_estimators_general': 900, 'learning_rate_general': 0.05091742107593084, 'num_leaves_general': 27, 'feature_fraction_general': 0.9364091229133623, 'bagging_fraction_general': 0.5008532773183771, 'bagging_freq_general': 4, 'min_child_samples_general': 41, 'reg_alpha_general': 0.09328913430579085, 'reg_lambda_general': 0.001446233727445602}. Best is trial 31 with value: 4.206883626853507.\n"
     ]
    },
    {
     "name": "stderr",
     "output_type": "stream",
     "text": [
      "Best trial: 31. Best value: 4.20688:  88%|████████▊ | 44/50 [12:33<01:10, 11.67s/it]"
     ]
    },
    {
     "name": "stdout",
     "output_type": "stream",
     "text": [
      "[I 2025-05-15 14:51:16,369] Trial 43 finished with value: 4.335121066863662 and parameters: {'n_estimators_general': 1100, 'learning_rate_general': 0.08953602284564571, 'num_leaves_general': 51, 'feature_fraction_general': 0.8708141217025228, 'bagging_fraction_general': 0.5446618457920178, 'bagging_freq_general': 5, 'min_child_samples_general': 50, 'reg_alpha_general': 0.1328408172152961, 'reg_lambda_general': 0.23268430858888567}. Best is trial 31 with value: 4.206883626853507.\n"
     ]
    },
    {
     "name": "stderr",
     "output_type": "stream",
     "text": [
      "Best trial: 31. Best value: 4.20688:  90%|█████████ | 45/50 [12:41<00:53, 10.65s/it]"
     ]
    },
    {
     "name": "stdout",
     "output_type": "stream",
     "text": [
      "[I 2025-05-15 14:51:24,664] Trial 44 finished with value: 4.227061643787853 and parameters: {'n_estimators_general': 800, 'learning_rate_general': 0.07357543244886644, 'num_leaves_general': 33, 'feature_fraction_general': 0.9540717549665463, 'bagging_fraction_general': 0.5710262663851267, 'bagging_freq_general': 5, 'min_child_samples_general': 33, 'reg_alpha_general': 0.2660975949691536, 'reg_lambda_general': 0.002666799589166189}. Best is trial 31 with value: 4.206883626853507.\n"
     ]
    },
    {
     "name": "stderr",
     "output_type": "stream",
     "text": [
      "Best trial: 31. Best value: 4.20688:  92%|█████████▏| 46/50 [12:50<00:40, 10.19s/it]"
     ]
    },
    {
     "name": "stdout",
     "output_type": "stream",
     "text": [
      "[I 2025-05-15 14:51:33,775] Trial 45 finished with value: 4.331277434340892 and parameters: {'n_estimators_general': 800, 'learning_rate_general': 0.07508398934901912, 'num_leaves_general': 34, 'feature_fraction_general': 0.9563624737289338, 'bagging_fraction_general': 0.5737657377766858, 'bagging_freq_general': 4, 'min_child_samples_general': 30, 'reg_alpha_general': 0.2720982523794671, 'reg_lambda_general': 0.013082474873170786}. Best is trial 31 with value: 4.206883626853507.\n"
     ]
    },
    {
     "name": "stderr",
     "output_type": "stream",
     "text": [
      "Best trial: 31. Best value: 4.20688:  94%|█████████▍| 47/50 [13:01<00:31, 10.35s/it]"
     ]
    },
    {
     "name": "stdout",
     "output_type": "stream",
     "text": [
      "[I 2025-05-15 14:51:44,496] Trial 46 finished with value: 4.438788737787685 and parameters: {'n_estimators_general': 800, 'learning_rate_general': 0.0894402282109196, 'num_leaves_general': 42, 'feature_fraction_general': 0.8469806873584446, 'bagging_fraction_general': 0.5294677833222742, 'bagging_freq_general': 5, 'min_child_samples_general': 20, 'reg_alpha_general': 2.2536002023325747, 'reg_lambda_general': 0.0047486913313815205}. Best is trial 31 with value: 4.206883626853507.\n"
     ]
    },
    {
     "name": "stderr",
     "output_type": "stream",
     "text": [
      "Best trial: 31. Best value: 4.20688:  96%|█████████▌| 48/50 [14:04<00:52, 26.23s/it]"
     ]
    },
    {
     "name": "stdout",
     "output_type": "stream",
     "text": [
      "[I 2025-05-15 14:52:47,791] Trial 47 finished with value: 4.581245575888433 and parameters: {'n_estimators_general': 1100, 'learning_rate_general': 0.005438460120778122, 'num_leaves_general': 54, 'feature_fraction_general': 0.9876224186271539, 'bagging_fraction_general': 0.44419964788426153, 'bagging_freq_general': 7, 'min_child_samples_general': 26, 'reg_alpha_general': 0.03437627323010043, 'reg_lambda_general': 0.0026289327665748284}. Best is trial 31 with value: 4.206883626853507.\n"
     ]
    },
    {
     "name": "stderr",
     "output_type": "stream",
     "text": [
      "Best trial: 31. Best value: 4.20688:  98%|█████████▊| 49/50 [14:15<00:21, 21.62s/it]"
     ]
    },
    {
     "name": "stdout",
     "output_type": "stream",
     "text": [
      "[I 2025-05-15 14:52:58,654] Trial 48 finished with value: 4.395032617924762 and parameters: {'n_estimators_general': 1000, 'learning_rate_general': 0.05326790380467668, 'num_leaves_general': 31, 'feature_fraction_general': 0.9453581869079305, 'bagging_fraction_general': 0.6350493619977214, 'bagging_freq_general': 2, 'min_child_samples_general': 73, 'reg_alpha_general': 0.5296856967895262, 'reg_lambda_general': 0.499771222269556}. Best is trial 31 with value: 4.206883626853507.\n"
     ]
    },
    {
     "name": "stderr",
     "output_type": "stream",
     "text": [
      "Best trial: 31. Best value: 4.20688: 100%|██████████| 50/50 [14:49<00:00, 17.79s/it]\n"
     ]
    },
    {
     "name": "stdout",
     "output_type": "stream",
     "text": [
      "[I 2025-05-15 14:53:32,694] Trial 49 finished with value: 4.317206800702145 and parameters: {'n_estimators_general': 2500, 'learning_rate_general': 0.014677289335428367, 'num_leaves_general': 27, 'feature_fraction_general': 0.6413599563416443, 'bagging_fraction_general': 0.5659402005560908, 'bagging_freq_general': 4, 'min_child_samples_general': 34, 'reg_alpha_general': 0.2819757245590021, 'reg_lambda_general': 0.006214696994632006}. Best is trial 31 with value: 4.206883626853507.\n",
      "Optuna Best hyperparameters for general model (from TSCV):  {'n_estimators_general': 1500, 'learning_rate_general': 0.07337974722426846, 'num_leaves_general': 25, 'feature_fraction_general': 0.8433465013998585, 'bagging_fraction_general': 0.5228469542478809, 'bagging_freq_general': 5, 'min_child_samples_general': 39, 'reg_alpha_general': 0.057713386936639965, 'reg_lambda_general': 0.0010569588217429573}\n",
      "Optuna Best average MAE for general model (from TSCV): 4.2069\n",
      "\n",
      "--- 4. Training Final General LightGBM Model ---\n",
      "Training until validation scores don't improve for 50 rounds\n",
      "Early stopping, best iteration is:\n",
      "[909]\tvalid_0's l1: 2.70925\n"
     ]
    },
    {
     "name": "stderr",
     "output_type": "stream",
     "text": [
      "[I 2025-05-15 14:53:40,657] A new study created in memory with name: target_finetune_validated_ICT_iter1\n"
     ]
    },
    {
     "name": "stdout",
     "output_type": "stream",
     "text": [
      "Final General Model Validation MAE (on 20% holdout): 2.7092, MAPE: 8.85%\n",
      "target HPO Fine-tune train size: 912, HPO Fine-tune valid size: 336\n",
      "\n",
      "--- Optuna: Tuning target Fine-Tuning Parameters (30 trials) ---\n"
     ]
    },
    {
     "name": "stderr",
     "output_type": "stream",
     "text": [
      "  0%|          | 0/30 [00:00<?, ?it/s]c:\\Users\\ashooshtari\\.conda\\envs\\FASE\\lib\\site-packages\\optuna\\distributions.py:699: UserWarning: The distribution is specified by [30, 300] and step=20, but the range is not divisible by `step`. It will be replaced by [30, 290].\n",
      "  warnings.warn(\n",
      "Best trial: 0. Best value: 7.26504:   3%|▎         | 1/30 [00:00<00:19,  1.47it/s]c:\\Users\\ashooshtari\\.conda\\envs\\FASE\\lib\\site-packages\\optuna\\distributions.py:699: UserWarning: The distribution is specified by [30, 300] and step=20, but the range is not divisible by `step`. It will be replaced by [30, 290].\n",
      "  warnings.warn(\n"
     ]
    },
    {
     "name": "stdout",
     "output_type": "stream",
     "text": [
      "[I 2025-05-15 14:53:41,332] Trial 0 finished with value: 7.265036812907133 and parameters: {'ft_n_estimators': 210, 'ft_learning_rate': 0.0043921612794993285, 'ft_num_leaves': 17, 'ft_feature_fraction': 0.8157888916054679, 'ft_bagging_fraction': 0.7626079830298699, 'ft_bagging_freq': 1, 'ft_min_child_samples': 16, 'ft_reg_alpha': 1.6650901460514267, 'ft_reg_lambda': 0.2307373396120102}. Best is trial 0 with value: 7.265036812907133.\n"
     ]
    },
    {
     "name": "stderr",
     "output_type": "stream",
     "text": [
      "Best trial: 0. Best value: 7.26504:   7%|▋         | 2/30 [00:00<00:12,  2.25it/s]c:\\Users\\ashooshtari\\.conda\\envs\\FASE\\lib\\site-packages\\optuna\\distributions.py:699: UserWarning: The distribution is specified by [30, 300] and step=20, but the range is not divisible by `step`. It will be replaced by [30, 290].\n",
      "  warnings.warn(\n"
     ]
    },
    {
     "name": "stdout",
     "output_type": "stream",
     "text": [
      "[I 2025-05-15 14:53:41,617] Trial 1 finished with value: 8.03143553421885 and parameters: {'ft_n_estimators': 50, 'ft_learning_rate': 0.0007427642908760283, 'ft_num_leaves': 22, 'ft_feature_fraction': 0.8791149593881844, 'ft_bagging_fraction': 0.8553222845698709, 'ft_bagging_freq': 5, 'ft_min_child_samples': 14, 'ft_reg_alpha': 0.19747361418392168, 'ft_reg_lambda': 2.811048810115747}. Best is trial 0 with value: 7.265036812907133.\n"
     ]
    },
    {
     "name": "stderr",
     "output_type": "stream",
     "text": [
      "Best trial: 2. Best value: 7.15689:  10%|█         | 3/30 [00:01<00:09,  2.86it/s]c:\\Users\\ashooshtari\\.conda\\envs\\FASE\\lib\\site-packages\\optuna\\distributions.py:699: UserWarning: The distribution is specified by [30, 300] and step=20, but the range is not divisible by `step`. It will be replaced by [30, 290].\n",
      "  warnings.warn(\n"
     ]
    },
    {
     "name": "stdout",
     "output_type": "stream",
     "text": [
      "[I 2025-05-15 14:53:41,855] Trial 2 finished with value: 7.156890672157012 and parameters: {'ft_n_estimators': 270, 'ft_learning_rate': 0.026592846590374076, 'ft_num_leaves': 7, 'ft_feature_fraction': 0.8106078277397589, 'ft_bagging_fraction': 0.909460592404587, 'ft_bagging_freq': 7, 'ft_min_child_samples': 19, 'ft_reg_alpha': 0.01601301724043605, 'ft_reg_lambda': 0.08435802180011749}. Best is trial 2 with value: 7.156890672157012.\n"
     ]
    },
    {
     "name": "stderr",
     "output_type": "stream",
     "text": [
      "Best trial: 2. Best value: 7.15689:  13%|█▎        | 4/30 [00:01<00:11,  2.23it/s]c:\\Users\\ashooshtari\\.conda\\envs\\FASE\\lib\\site-packages\\optuna\\distributions.py:699: UserWarning: The distribution is specified by [30, 300] and step=20, but the range is not divisible by `step`. It will be replaced by [30, 290].\n",
      "  warnings.warn(\n"
     ]
    },
    {
     "name": "stdout",
     "output_type": "stream",
     "text": [
      "[I 2025-05-15 14:53:42,437] Trial 3 finished with value: 7.1890858409476905 and parameters: {'ft_n_estimators': 250, 'ft_learning_rate': 0.014144161821065997, 'ft_num_leaves': 23, 'ft_feature_fraction': 0.61986432067788, 'ft_bagging_fraction': 0.6786903604191967, 'ft_bagging_freq': 2, 'ft_min_child_samples': 10, 'ft_reg_alpha': 0.5468343823975965, 'ft_reg_lambda': 2.2717469493692204}. Best is trial 2 with value: 7.156890672157012.\n"
     ]
    },
    {
     "name": "stderr",
     "output_type": "stream",
     "text": [
      "Best trial: 2. Best value: 7.15689:  17%|█▋        | 5/30 [00:02<00:10,  2.49it/s]c:\\Users\\ashooshtari\\.conda\\envs\\FASE\\lib\\site-packages\\optuna\\distributions.py:699: UserWarning: The distribution is specified by [30, 300] and step=20, but the range is not divisible by `step`. It will be replaced by [30, 290].\n",
      "  warnings.warn(\n"
     ]
    },
    {
     "name": "stdout",
     "output_type": "stream",
     "text": [
      "[I 2025-05-15 14:53:42,771] Trial 4 finished with value: 7.522459940190978 and parameters: {'ft_n_estimators': 130, 'ft_learning_rate': 0.004800709494989577, 'ft_num_leaves': 8, 'ft_feature_fraction': 0.7237468939058525, 'ft_bagging_fraction': 0.849826925828326, 'ft_bagging_freq': 5, 'ft_min_child_samples': 8, 'ft_reg_alpha': 0.47520688179579595, 'ft_reg_lambda': 0.11393014318449939}. Best is trial 2 with value: 7.156890672157012.\n"
     ]
    },
    {
     "name": "stderr",
     "output_type": "stream",
     "text": [
      "Best trial: 2. Best value: 7.15689:  20%|██        | 6/30 [00:02<00:08,  2.86it/s]c:\\Users\\ashooshtari\\.conda\\envs\\FASE\\lib\\site-packages\\optuna\\distributions.py:699: UserWarning: The distribution is specified by [30, 300] and step=20, but the range is not divisible by `step`. It will be replaced by [30, 290].\n",
      "  warnings.warn(\n"
     ]
    },
    {
     "name": "stdout",
     "output_type": "stream",
     "text": [
      "[I 2025-05-15 14:53:43,004] Trial 5 finished with value: 7.422351020563602 and parameters: {'ft_n_estimators': 50, 'ft_learning_rate': 0.014070097135694506, 'ft_num_leaves': 14, 'ft_feature_fraction': 0.7274574368420357, 'ft_bagging_fraction': 0.7551511691767963, 'ft_bagging_freq': 6, 'ft_min_child_samples': 11, 'ft_reg_alpha': 0.39587099914786517, 'ft_reg_lambda': 0.9203632131487975}. Best is trial 2 with value: 7.156890672157012.\n"
     ]
    },
    {
     "name": "stderr",
     "output_type": "stream",
     "text": [
      "Best trial: 2. Best value: 7.15689:  23%|██▎       | 7/30 [00:02<00:07,  3.15it/s]c:\\Users\\ashooshtari\\.conda\\envs\\FASE\\lib\\site-packages\\optuna\\distributions.py:699: UserWarning: The distribution is specified by [30, 300] and step=20, but the range is not divisible by `step`. It will be replaced by [30, 290].\n",
      "  warnings.warn(\n"
     ]
    },
    {
     "name": "stdout",
     "output_type": "stream",
     "text": [
      "[I 2025-05-15 14:53:43,272] Trial 6 finished with value: 7.9853219528170705 and parameters: {'ft_n_estimators': 30, 'ft_learning_rate': 0.0024392805738220973, 'ft_num_leaves': 10, 'ft_feature_fraction': 0.7838809717805955, 'ft_bagging_fraction': 0.8087918731119006, 'ft_bagging_freq': 7, 'ft_min_child_samples': 9, 'ft_reg_alpha': 2.370709965332529, 'ft_reg_lambda': 0.3582730293829324}. Best is trial 2 with value: 7.156890672157012.\n"
     ]
    },
    {
     "name": "stderr",
     "output_type": "stream",
     "text": [
      "Best trial: 7. Best value: 7.13079:  27%|██▋       | 8/30 [00:03<00:09,  2.28it/s]c:\\Users\\ashooshtari\\.conda\\envs\\FASE\\lib\\site-packages\\optuna\\distributions.py:699: UserWarning: The distribution is specified by [30, 300] and step=20, but the range is not divisible by `step`. It will be replaced by [30, 290].\n",
      "  warnings.warn(\n"
     ]
    },
    {
     "name": "stdout",
     "output_type": "stream",
     "text": [
      "[I 2025-05-15 14:53:43,972] Trial 7 finished with value: 7.130788652991907 and parameters: {'ft_n_estimators': 230, 'ft_learning_rate': 0.006509131605267693, 'ft_num_leaves': 21, 'ft_feature_fraction': 0.9072125350168165, 'ft_bagging_fraction': 0.5531896653634139, 'ft_bagging_freq': 4, 'ft_min_child_samples': 19, 'ft_reg_alpha': 0.3207666217022913, 'ft_reg_lambda': 1.4647276232171713}. Best is trial 7 with value: 7.130788652991907.\n"
     ]
    },
    {
     "name": "stderr",
     "output_type": "stream",
     "text": [
      "Best trial: 7. Best value: 7.13079:  30%|███       | 9/30 [00:03<00:08,  2.50it/s]c:\\Users\\ashooshtari\\.conda\\envs\\FASE\\lib\\site-packages\\optuna\\distributions.py:699: UserWarning: The distribution is specified by [30, 300] and step=20, but the range is not divisible by `step`. It will be replaced by [30, 290].\n",
      "  warnings.warn(\n"
     ]
    },
    {
     "name": "stdout",
     "output_type": "stream",
     "text": [
      "[I 2025-05-15 14:53:44,285] Trial 8 finished with value: 8.021867622650419 and parameters: {'ft_n_estimators': 50, 'ft_learning_rate': 0.0009549081163494964, 'ft_num_leaves': 18, 'ft_feature_fraction': 0.9989578134573864, 'ft_bagging_fraction': 0.8646578672121513, 'ft_bagging_freq': 4, 'ft_min_child_samples': 2, 'ft_reg_alpha': 0.15797102794676107, 'ft_reg_lambda': 0.20441422584788924}. Best is trial 7 with value: 7.130788652991907.\n"
     ]
    },
    {
     "name": "stderr",
     "output_type": "stream",
     "text": [
      "Best trial: 7. Best value: 7.13079:  33%|███▎      | 10/30 [00:04<00:09,  2.21it/s]c:\\Users\\ashooshtari\\.conda\\envs\\FASE\\lib\\site-packages\\optuna\\distributions.py:699: UserWarning: The distribution is specified by [30, 300] and step=20, but the range is not divisible by `step`. It will be replaced by [30, 290].\n",
      "  warnings.warn(\n"
     ]
    },
    {
     "name": "stdout",
     "output_type": "stream",
     "text": [
      "[I 2025-05-15 14:53:44,853] Trial 9 finished with value: 7.229000936033903 and parameters: {'ft_n_estimators': 110, 'ft_learning_rate': 0.009935443189367324, 'ft_num_leaves': 26, 'ft_feature_fraction': 0.9534503381698808, 'ft_bagging_fraction': 0.6653356659372136, 'ft_bagging_freq': 3, 'ft_min_child_samples': 7, 'ft_reg_alpha': 2.951255803053421, 'ft_reg_lambda': 0.04674879901159119}. Best is trial 7 with value: 7.130788652991907.\n"
     ]
    },
    {
     "name": "stderr",
     "output_type": "stream",
     "text": [
      "Best trial: 10. Best value: 7.02511:  37%|███▋      | 11/30 [00:04<00:08,  2.32it/s]c:\\Users\\ashooshtari\\.conda\\envs\\FASE\\lib\\site-packages\\optuna\\distributions.py:699: UserWarning: The distribution is specified by [30, 300] and step=20, but the range is not divisible by `step`. It will be replaced by [30, 290].\n",
      "  warnings.warn(\n"
     ]
    },
    {
     "name": "stdout",
     "output_type": "stream",
     "text": [
      "[I 2025-05-15 14:53:45,231] Trial 10 finished with value: 7.025106568753805 and parameters: {'ft_n_estimators': 210, 'ft_learning_rate': 0.03844872603476412, 'ft_num_leaves': 37, 'ft_feature_fraction': 0.5043413486050781, 'ft_bagging_fraction': 0.5263799881104856, 'ft_bagging_freq': 3, 'ft_min_child_samples': 20, 'ft_reg_alpha': 0.03734858489317403, 'ft_reg_lambda': 0.011575354526418806}. Best is trial 10 with value: 7.025106568753805.\n"
     ]
    },
    {
     "name": "stderr",
     "output_type": "stream",
     "text": [
      "Best trial: 10. Best value: 7.02511:  40%|████      | 12/30 [00:04<00:07,  2.34it/s]c:\\Users\\ashooshtari\\.conda\\envs\\FASE\\lib\\site-packages\\optuna\\distributions.py:699: UserWarning: The distribution is specified by [30, 300] and step=20, but the range is not divisible by `step`. It will be replaced by [30, 290].\n",
      "  warnings.warn(\n"
     ]
    },
    {
     "name": "stdout",
     "output_type": "stream",
     "text": [
      "[I 2025-05-15 14:53:45,655] Trial 11 finished with value: 7.030395045158687 and parameters: {'ft_n_estimators': 190, 'ft_learning_rate': 0.04813747205340288, 'ft_num_leaves': 38, 'ft_feature_fraction': 0.5287748838933953, 'ft_bagging_fraction': 0.5008988699185007, 'ft_bagging_freq': 3, 'ft_min_child_samples': 20, 'ft_reg_alpha': 0.03716306463352606, 'ft_reg_lambda': 0.015293727445023097}. Best is trial 10 with value: 7.025106568753805.\n"
     ]
    },
    {
     "name": "stderr",
     "output_type": "stream",
     "text": [
      "Best trial: 10. Best value: 7.02511:  43%|████▎     | 13/30 [00:05<00:06,  2.51it/s]c:\\Users\\ashooshtari\\.conda\\envs\\FASE\\lib\\site-packages\\optuna\\distributions.py:699: UserWarning: The distribution is specified by [30, 300] and step=20, but the range is not divisible by `step`. It will be replaced by [30, 290].\n",
      "  warnings.warn(\n"
     ]
    },
    {
     "name": "stdout",
     "output_type": "stream",
     "text": [
      "[I 2025-05-15 14:53:45,988] Trial 12 finished with value: 7.104479839608708 and parameters: {'ft_n_estimators': 190, 'ft_learning_rate': 0.04493868823608806, 'ft_num_leaves': 40, 'ft_feature_fraction': 0.5127751827702343, 'ft_bagging_fraction': 0.5081512765629796, 'ft_bagging_freq': 2, 'ft_min_child_samples': 20, 'ft_reg_alpha': 0.02857559297571993, 'ft_reg_lambda': 0.011205037457283119}. Best is trial 10 with value: 7.025106568753805.\n"
     ]
    },
    {
     "name": "stderr",
     "output_type": "stream",
     "text": [
      "Best trial: 13. Best value: 6.99721:  47%|████▋     | 14/30 [00:05<00:06,  2.45it/s]c:\\Users\\ashooshtari\\.conda\\envs\\FASE\\lib\\site-packages\\optuna\\distributions.py:699: UserWarning: The distribution is specified by [30, 300] and step=20, but the range is not divisible by `step`. It will be replaced by [30, 290].\n",
      "  warnings.warn(\n"
     ]
    },
    {
     "name": "stdout",
     "output_type": "stream",
     "text": [
      "[I 2025-05-15 14:53:46,404] Trial 13 finished with value: 6.9972085433942475 and parameters: {'ft_n_estimators': 170, 'ft_learning_rate': 0.048225250914561806, 'ft_num_leaves': 40, 'ft_feature_fraction': 0.5057181859987318, 'ft_bagging_fraction': 0.6082339717437992, 'ft_bagging_freq': 3, 'ft_min_child_samples': 15, 'ft_reg_alpha': 0.056963566491040035, 'ft_reg_lambda': 0.01077383993321538}. Best is trial 13 with value: 6.9972085433942475.\n"
     ]
    },
    {
     "name": "stderr",
     "output_type": "stream",
     "text": [
      "Best trial: 13. Best value: 6.99721:  50%|█████     | 15/30 [00:06<00:06,  2.24it/s]c:\\Users\\ashooshtari\\.conda\\envs\\FASE\\lib\\site-packages\\optuna\\distributions.py:699: UserWarning: The distribution is specified by [30, 300] and step=20, but the range is not divisible by `step`. It will be replaced by [30, 290].\n",
      "  warnings.warn(\n"
     ]
    },
    {
     "name": "stdout",
     "output_type": "stream",
     "text": [
      "[I 2025-05-15 14:53:46,948] Trial 14 finished with value: 7.0591844017011995 and parameters: {'ft_n_estimators': 150, 'ft_learning_rate': 0.02556263506276191, 'ft_num_leaves': 34, 'ft_feature_fraction': 0.61683810836434, 'ft_bagging_fraction': 0.6097138008378606, 'ft_bagging_freq': 3, 'ft_min_child_samples': 16, 'ft_reg_alpha': 0.07309442627119357, 'ft_reg_lambda': 0.0219347764311275}. Best is trial 13 with value: 6.9972085433942475.\n"
     ]
    },
    {
     "name": "stderr",
     "output_type": "stream",
     "text": [
      "Best trial: 13. Best value: 6.99721:  53%|█████▎    | 16/30 [00:06<00:06,  2.16it/s]c:\\Users\\ashooshtari\\.conda\\envs\\FASE\\lib\\site-packages\\optuna\\distributions.py:699: UserWarning: The distribution is specified by [30, 300] and step=20, but the range is not divisible by `step`. It will be replaced by [30, 290].\n",
      "  warnings.warn(\n"
     ]
    },
    {
     "name": "stdout",
     "output_type": "stream",
     "text": [
      "[I 2025-05-15 14:53:47,451] Trial 15 finished with value: 7.031395381119204 and parameters: {'ft_n_estimators': 290, 'ft_learning_rate': 0.026005821007568933, 'ft_num_leaves': 32, 'ft_feature_fraction': 0.5896512539538551, 'ft_bagging_fraction': 0.6106255146236652, 'ft_bagging_freq': 1, 'ft_min_child_samples': 14, 'ft_reg_alpha': 0.010611608175670289, 'ft_reg_lambda': 0.027881369479088227}. Best is trial 13 with value: 6.9972085433942475.\n"
     ]
    },
    {
     "name": "stderr",
     "output_type": "stream",
     "text": [
      "Best trial: 13. Best value: 6.99721:  57%|█████▋    | 17/30 [00:07<00:06,  1.97it/s]c:\\Users\\ashooshtari\\.conda\\envs\\FASE\\lib\\site-packages\\optuna\\distributions.py:699: UserWarning: The distribution is specified by [30, 300] and step=20, but the range is not divisible by `step`. It will be replaced by [30, 290].\n",
      "  warnings.warn(\n"
     ]
    },
    {
     "name": "stdout",
     "output_type": "stream",
     "text": [
      "[I 2025-05-15 14:53:48,061] Trial 16 finished with value: 7.772784242620825 and parameters: {'ft_n_estimators': 110, 'ft_learning_rate': 0.0018520349719299664, 'ft_num_leaves': 30, 'ft_feature_fraction': 0.5629877833270566, 'ft_bagging_fraction': 0.9940087100301152, 'ft_bagging_freq': 2, 'ft_min_child_samples': 16, 'ft_reg_alpha': 0.06030303977868564, 'ft_reg_lambda': 0.043287334719231206}. Best is trial 13 with value: 6.9972085433942475.\n"
     ]
    },
    {
     "name": "stderr",
     "output_type": "stream",
     "text": [
      "Best trial: 13. Best value: 6.99721:  60%|██████    | 18/30 [00:07<00:05,  2.22it/s]c:\\Users\\ashooshtari\\.conda\\envs\\FASE\\lib\\site-packages\\optuna\\distributions.py:699: UserWarning: The distribution is specified by [30, 300] and step=20, but the range is not divisible by `step`. It will be replaced by [30, 290].\n",
      "  warnings.warn(\n"
     ]
    },
    {
     "name": "stdout",
     "output_type": "stream",
     "text": [
      "[I 2025-05-15 14:53:48,374] Trial 17 finished with value: 7.21780085712832 and parameters: {'ft_n_estimators': 170, 'ft_learning_rate': 0.0499802198292405, 'ft_num_leaves': 36, 'ft_feature_fraction': 0.6615200084279127, 'ft_bagging_fraction': 0.5862031395827016, 'ft_bagging_freq': 5, 'ft_min_child_samples': 17, 'ft_reg_alpha': 0.09649604225205842, 'ft_reg_lambda': 0.012037818106360234}. Best is trial 13 with value: 6.9972085433942475.\n"
     ]
    },
    {
     "name": "stderr",
     "output_type": "stream",
     "text": [
      "Best trial: 13. Best value: 6.99721:  63%|██████▎   | 19/30 [00:08<00:05,  2.01it/s]c:\\Users\\ashooshtari\\.conda\\envs\\FASE\\lib\\site-packages\\optuna\\distributions.py:699: UserWarning: The distribution is specified by [30, 300] and step=20, but the range is not divisible by `step`. It will be replaced by [30, 290].\n",
      "  warnings.warn(\n"
     ]
    },
    {
     "name": "stdout",
     "output_type": "stream",
     "text": [
      "[I 2025-05-15 14:53:48,987] Trial 18 finished with value: 7.20298461708367 and parameters: {'ft_n_estimators': 230, 'ft_learning_rate': 0.018410643377935482, 'ft_num_leaves': 27, 'ft_feature_fraction': 0.5045241624306611, 'ft_bagging_fraction': 0.6814523326523514, 'ft_bagging_freq': 3, 'ft_min_child_samples': 12, 'ft_reg_alpha': 0.025782020802126094, 'ft_reg_lambda': 0.04824950787346986}. Best is trial 13 with value: 6.9972085433942475.\n"
     ]
    },
    {
     "name": "stderr",
     "output_type": "stream",
     "text": [
      "Best trial: 13. Best value: 6.99721:  67%|██████▋   | 20/30 [00:08<00:04,  2.01it/s]c:\\Users\\ashooshtari\\.conda\\envs\\FASE\\lib\\site-packages\\optuna\\distributions.py:699: UserWarning: The distribution is specified by [30, 300] and step=20, but the range is not divisible by `step`. It will be replaced by [30, 290].\n",
      "  warnings.warn(\n"
     ]
    },
    {
     "name": "stdout",
     "output_type": "stream",
     "text": [
      "[I 2025-05-15 14:53:49,487] Trial 19 finished with value: 7.346715264959202 and parameters: {'ft_n_estimators': 90, 'ft_learning_rate': 0.008609325366557426, 'ft_num_leaves': 40, 'ft_feature_fraction': 0.6780849599033665, 'ft_bagging_fraction': 0.5572438306236184, 'ft_bagging_freq': 4, 'ft_min_child_samples': 13, 'ft_reg_alpha': 0.046948754877677384, 'ft_reg_lambda': 0.023905925086417062}. Best is trial 13 with value: 6.9972085433942475.\n"
     ]
    },
    {
     "name": "stderr",
     "output_type": "stream",
     "text": [
      "Best trial: 13. Best value: 6.99721:  70%|███████   | 21/30 [00:09<00:04,  1.92it/s]c:\\Users\\ashooshtari\\.conda\\envs\\FASE\\lib\\site-packages\\optuna\\distributions.py:699: UserWarning: The distribution is specified by [30, 300] and step=20, but the range is not divisible by `step`. It will be replaced by [30, 290].\n",
      "  warnings.warn(\n"
     ]
    },
    {
     "name": "stdout",
     "output_type": "stream",
     "text": [
      "[I 2025-05-15 14:53:50,066] Trial 20 finished with value: 7.030575059296907 and parameters: {'ft_n_estimators': 170, 'ft_learning_rate': 0.032312597612902214, 'ft_num_leaves': 30, 'ft_feature_fraction': 0.5588003021207726, 'ft_bagging_fraction': 0.6457061759428435, 'ft_bagging_freq': 2, 'ft_min_child_samples': 5, 'ft_reg_alpha': 0.12731661640492223, 'ft_reg_lambda': 0.10280529278473088}. Best is trial 13 with value: 6.9972085433942475.\n"
     ]
    },
    {
     "name": "stderr",
     "output_type": "stream",
     "text": [
      "Best trial: 21. Best value: 6.95422:  73%|███████▎  | 22/30 [00:09<00:04,  1.98it/s]c:\\Users\\ashooshtari\\.conda\\envs\\FASE\\lib\\site-packages\\optuna\\distributions.py:699: UserWarning: The distribution is specified by [30, 300] and step=20, but the range is not divisible by `step`. It will be replaced by [30, 290].\n",
      "  warnings.warn(\n"
     ]
    },
    {
     "name": "stdout",
     "output_type": "stream",
     "text": [
      "[I 2025-05-15 14:53:50,534] Trial 21 finished with value: 6.954216019948878 and parameters: {'ft_n_estimators': 190, 'ft_learning_rate': 0.046736202405970456, 'ft_num_leaves': 37, 'ft_feature_fraction': 0.5380392719224733, 'ft_bagging_fraction': 0.5289315283303215, 'ft_bagging_freq': 3, 'ft_min_child_samples': 18, 'ft_reg_alpha': 0.03682399990297231, 'ft_reg_lambda': 0.010552807905311667}. Best is trial 21 with value: 6.954216019948878.\n"
     ]
    },
    {
     "name": "stderr",
     "output_type": "stream",
     "text": [
      "Best trial: 21. Best value: 6.95422:  77%|███████▋  | 23/30 [00:10<00:03,  2.11it/s]c:\\Users\\ashooshtari\\.conda\\envs\\FASE\\lib\\site-packages\\optuna\\distributions.py:699: UserWarning: The distribution is specified by [30, 300] and step=20, but the range is not divisible by `step`. It will be replaced by [30, 290].\n",
      "  warnings.warn(\n"
     ]
    },
    {
     "name": "stdout",
     "output_type": "stream",
     "text": [
      "[I 2025-05-15 14:53:50,937] Trial 22 finished with value: 6.988294804686485 and parameters: {'ft_n_estimators': 210, 'ft_learning_rate': 0.035945968218477634, 'ft_num_leaves': 36, 'ft_feature_fraction': 0.5568237734855738, 'ft_bagging_fraction': 0.5352875196361655, 'ft_bagging_freq': 3, 'ft_min_child_samples': 18, 'ft_reg_alpha': 0.01836977473139981, 'ft_reg_lambda': 0.010635798064322495}. Best is trial 21 with value: 6.954216019948878.\n"
     ]
    },
    {
     "name": "stderr",
     "output_type": "stream",
     "text": [
      "Best trial: 21. Best value: 6.95422:  80%|████████  | 24/30 [00:10<00:03,  1.95it/s]c:\\Users\\ashooshtari\\.conda\\envs\\FASE\\lib\\site-packages\\optuna\\distributions.py:699: UserWarning: The distribution is specified by [30, 300] and step=20, but the range is not divisible by `step`. It will be replaced by [30, 290].\n",
      "  warnings.warn(\n"
     ]
    },
    {
     "name": "stdout",
     "output_type": "stream",
     "text": [
      "[I 2025-05-15 14:53:51,518] Trial 23 finished with value: 6.9836753589182665 and parameters: {'ft_n_estimators': 150, 'ft_learning_rate': 0.018587608311879195, 'ft_num_leaves': 35, 'ft_feature_fraction': 0.5618704351076216, 'ft_bagging_fraction': 0.5643036523859388, 'ft_bagging_freq': 4, 'ft_min_child_samples': 18, 'ft_reg_alpha': 0.017512085827744935, 'ft_reg_lambda': 0.026840928261465988}. Best is trial 21 with value: 6.954216019948878.\n"
     ]
    },
    {
     "name": "stderr",
     "output_type": "stream",
     "text": [
      "Best trial: 21. Best value: 6.95422:  83%|████████▎ | 25/30 [00:11<00:02,  1.91it/s]c:\\Users\\ashooshtari\\.conda\\envs\\FASE\\lib\\site-packages\\optuna\\distributions.py:699: UserWarning: The distribution is specified by [30, 300] and step=20, but the range is not divisible by `step`. It will be replaced by [30, 290].\n",
      "  warnings.warn(\n"
     ]
    },
    {
     "name": "stdout",
     "output_type": "stream",
     "text": [
      "[I 2025-05-15 14:53:52,086] Trial 24 finished with value: 7.064986342529226 and parameters: {'ft_n_estimators': 130, 'ft_learning_rate': 0.01852370083576195, 'ft_num_leaves': 34, 'ft_feature_fraction': 0.6582648632371212, 'ft_bagging_fraction': 0.5590566283469757, 'ft_bagging_freq': 4, 'ft_min_child_samples': 18, 'ft_reg_alpha': 0.01699389359025364, 'ft_reg_lambda': 0.025908561179893153}. Best is trial 21 with value: 6.954216019948878.\n"
     ]
    },
    {
     "name": "stderr",
     "output_type": "stream",
     "text": [
      "Best trial: 21. Best value: 6.95422:  87%|████████▋ | 26/30 [00:11<00:02,  1.94it/s]c:\\Users\\ashooshtari\\.conda\\envs\\FASE\\lib\\site-packages\\optuna\\distributions.py:699: UserWarning: The distribution is specified by [30, 300] and step=20, but the range is not divisible by `step`. It will be replaced by [30, 290].\n",
      "  warnings.warn(\n"
     ]
    },
    {
     "name": "stdout",
     "output_type": "stream",
     "text": [
      "[I 2025-05-15 14:53:52,581] Trial 25 finished with value: 7.120292728904918 and parameters: {'ft_n_estimators': 210, 'ft_learning_rate': 0.015428226641093386, 'ft_num_leaves': 34, 'ft_feature_fraction': 0.5680828194536851, 'ft_bagging_fraction': 0.5345210338307501, 'ft_bagging_freq': 5, 'ft_min_child_samples': 18, 'ft_reg_alpha': 0.011487030316442009, 'ft_reg_lambda': 0.019233481329992558}. Best is trial 21 with value: 6.954216019948878.\n"
     ]
    },
    {
     "name": "stderr",
     "output_type": "stream",
     "text": [
      "Best trial: 21. Best value: 6.95422:  90%|█████████ | 27/30 [00:12<00:01,  1.96it/s]c:\\Users\\ashooshtari\\.conda\\envs\\FASE\\lib\\site-packages\\optuna\\distributions.py:699: UserWarning: The distribution is specified by [30, 300] and step=20, but the range is not divisible by `step`. It will be replaced by [30, 290].\n",
      "  warnings.warn(\n"
     ]
    },
    {
     "name": "stdout",
     "output_type": "stream",
     "text": [
      "[I 2025-05-15 14:53:53,082] Trial 26 finished with value: 7.050444486187215 and parameters: {'ft_n_estimators': 150, 'ft_learning_rate': 0.029913346230857698, 'ft_num_leaves': 30, 'ft_feature_fraction': 0.6160839509593581, 'ft_bagging_fraction': 0.7184001477143132, 'ft_bagging_freq': 6, 'ft_min_child_samples': 18, 'ft_reg_alpha': 0.020062118386650927, 'ft_reg_lambda': 0.03493802074810501}. Best is trial 21 with value: 6.954216019948878.\n"
     ]
    },
    {
     "name": "stderr",
     "output_type": "stream",
     "text": [
      "Best trial: 21. Best value: 6.95422:  93%|█████████▎| 28/30 [00:13<00:01,  1.63it/s]c:\\Users\\ashooshtari\\.conda\\envs\\FASE\\lib\\site-packages\\optuna\\distributions.py:699: UserWarning: The distribution is specified by [30, 300] and step=20, but the range is not divisible by `step`. It will be replaced by [30, 290].\n",
      "  warnings.warn(\n"
     ]
    },
    {
     "name": "stdout",
     "output_type": "stream",
     "text": [
      "[I 2025-05-15 14:53:53,919] Trial 27 finished with value: 6.993324792432754 and parameters: {'ft_n_estimators': 250, 'ft_learning_rate': 0.010088750993681258, 'ft_num_leaves': 27, 'ft_feature_fraction': 0.688901059219064, 'ft_bagging_fraction': 0.5936762201991369, 'ft_bagging_freq': 4, 'ft_min_child_samples': 17, 'ft_reg_alpha': 0.010866230081694508, 'ft_reg_lambda': 0.06595880516948521}. Best is trial 21 with value: 6.954216019948878.\n"
     ]
    },
    {
     "name": "stderr",
     "output_type": "stream",
     "text": [
      "Best trial: 21. Best value: 6.95422:  97%|█████████▋| 29/30 [00:13<00:00,  1.73it/s]c:\\Users\\ashooshtari\\.conda\\envs\\FASE\\lib\\site-packages\\optuna\\distributions.py:699: UserWarning: The distribution is specified by [30, 300] and step=20, but the range is not divisible by `step`. It will be replaced by [30, 290].\n",
      "  warnings.warn(\n"
     ]
    },
    {
     "name": "stdout",
     "output_type": "stream",
     "text": [
      "[I 2025-05-15 14:53:54,421] Trial 28 finished with value: 7.184285513147337 and parameters: {'ft_n_estimators': 190, 'ft_learning_rate': 0.02166041197258928, 'ft_num_leaves': 36, 'ft_feature_fraction': 0.5510420454880184, 'ft_bagging_fraction': 0.6402699032643084, 'ft_bagging_freq': 2, 'ft_min_child_samples': 15, 'ft_reg_alpha': 0.023009476136524685, 'ft_reg_lambda': 0.01602720021183695}. Best is trial 21 with value: 6.954216019948878.\n"
     ]
    },
    {
     "name": "stderr",
     "output_type": "stream",
     "text": [
      "Best trial: 21. Best value: 6.95422: 100%|██████████| 30/30 [00:14<00:00,  2.03it/s]\n"
     ]
    },
    {
     "name": "stdout",
     "output_type": "stream",
     "text": [
      "[I 2025-05-15 14:53:55,435] Trial 29 finished with value: 7.342918791035895 and parameters: {'ft_n_estimators': 230, 'ft_learning_rate': 0.0032244276311355693, 'ft_num_leaves': 33, 'ft_feature_fraction': 0.5914409122074458, 'ft_bagging_fraction': 0.7119797487643198, 'ft_bagging_freq': 1, 'ft_min_child_samples': 17, 'ft_reg_alpha': 1.2555582693071174, 'ft_reg_lambda': 0.3578272827285108}. Best is trial 21 with value: 6.954216019948878.\n",
      "Optuna Best hyperparameters for target fine-tuning:  {'ft_n_estimators': 190, 'ft_learning_rate': 0.046736202405970456, 'ft_num_leaves': 37, 'ft_feature_fraction': 0.5380392719224733, 'ft_bagging_fraction': 0.5289315283303215, 'ft_bagging_freq': 3, 'ft_min_child_samples': 18, 'ft_reg_alpha': 0.03682399990297231, 'ft_reg_lambda': 0.010552807905311667}\n",
      "Optuna Best MAE on target fine-tune validation: 6.9542\n",
      "\n",
      "--- 5. Fine-tuning Final Model for ICT ---\n",
      "target MAE on its own full 2-month data (after final fine-tuning): 3.6166, MAPE: 2.23%\n",
      "\n",
      "--- 6. Recursive Forecasting for ICT (using Fine-tuned Model) ---\n"
     ]
    },
    {
     "name": "stderr",
     "output_type": "stream",
     "text": [
      "C:\\Users\\ashooshtari\\AppData\\Local\\Temp\\ipykernel_15984\\4283948840.py:302: FutureWarning: 'H' is deprecated and will be removed in a future version, please use 'h' instead.\n",
      "  forecast_timestamps_target = pd.date_range(start=target_forecast_start_date, end=target_forecast_end_date, freq='H')\n"
     ]
    },
    {
     "name": "stdout",
     "output_type": "stream",
     "text": [
      "\n",
      "MAE on ICT's forecast (original scale, after fine-tuning): 15.0316, MAPE: 8.29%\n",
      "\n",
      "--- 7. Saving Submission File ---\n",
      "Submission file 'submission_lgbm_iter1_rolling_ICT.csv' saved.\n",
      "\n",
      "LGBM Process Iteration 1 (Rolling Windows) Finished.\n"
     ]
    }
   ],
   "source": [
    "import pandas as pd\n",
    "import numpy as np\n",
    "import lightgbm as lgb\n",
    "from sklearn.metrics import mean_absolute_error, mean_absolute_percentage_error\n",
    "from sklearn.model_selection import TimeSeriesSplit\n",
    "import warnings\n",
    "import optuna\n",
    "\n",
    "LOAD_DATA_PATH = 'df_el.csv'\n",
    "WEATHER_DATA_PATH = 'df_weather_hourly.csv'\n",
    "WEATHER_TIMESTAMP_COL = 'Timestamp'\n",
    "ALL_WEATHER_AND_TIME_PROVIDED_FEATURES = [\n",
    "    'T', 'P0', 'P', 'U', 'Ff', 'ff10', 'VV', 'Td',\n",
    "    'cloud_condition_score', 'cloud_base_meters', 'wind_x', 'wind_y',\n",
    "    'wind_is_variable', 'wind_is_calm', 'weather_severity',\n",
    "    'T_lag1h', 'T_lag24h', 'Td_lag1h', 'Td_lag24h', 'U_lag1h', 'U_lag24h',\n",
    "    'hour', 'dayofweek', 'month', 'dayofyear', 'weekofyear',\n",
    "    'is_weekend', 'is_holiday', 'FT',\n",
    "    'hour_sin', 'hour_cos', 'dayofweek_sin', 'dayofweek_cos', 'month_sin', 'month_cos'\n",
    "]\n",
    "MODEL_INPUT_WEATHER_TIME_FEATURES = ALL_WEATHER_AND_TIME_PROVIDED_FEATURES\n",
    "BUILDING_LOAD_COLS = ['ICT', 'U06, U06A, U05B', 'U05, U04, U04B, GEO', 'LIB', 'MEK', 'SOC', 'S01', 'OBS', 'TEG', 'D04']\n",
    "LOAD_BUILDING_ID_COL_MELTED = 'building_id'\n",
    "LOAD_VALUE_COL_MELTED = 'load'\n",
    "TARGET_BUILDING_ID = 'ICT' \n",
    "if TARGET_BUILDING_ID not in BUILDING_LOAD_COLS:\n",
    "    raise ValueError(f\"TARGET_BUILDING_ID '{TARGET_BUILDING_ID}' not found.\")\n",
    "TRAIN_BUILDING_IDS = [bid for bid in BUILDING_LOAD_COLS if bid != TARGET_BUILDING_ID]\n",
    "B7_KNOWN_MONTHS = 2\n",
    "LAG_FEATURES_LOAD = [1, 2, 24, 168]\n",
    "ROLLING_WINDOW_LOAD = [3, 6, 12, 24, 24*3, 24*7] # Daily and Weekly rolling features (mean and std) \n",
    "\n",
    "N_TRIALS_GENERAL = 50 \n",
    "N_TRIALS_FINETUNE = 30\n",
    "EARLY_STOPPING_ROUNDS_OPTUNA = 30\n",
    "FINETUNE_VALID_WEEKS = 2\n",
    "\n",
    "def mape(y_true, y_pred):\n",
    "    y_true_arr, y_pred_arr = np.array(y_true), np.array(y_pred)\n",
    "    mask = np.abs(y_true_arr) > 1e-9 \n",
    "    if np.sum(mask) == 0: return np.nan\n",
    "    y_true_masked = y_true_arr[mask]\n",
    "    y_pred_masked = y_pred_arr[mask]\n",
    "    if len(y_true_masked) == 0: return np.nan\n",
    "    mape = np.mean(np.abs((y_true_masked - y_pred_masked) / y_true_masked)) * 100\n",
    "    if np.sum(~mask) > 0:\n",
    "        print(f\"    (MAPE calc: {np.sum(~mask)} zero/near-zero actuals excluded)\")\n",
    "    return mape\n",
    "\n",
    "def load_and_prepare_data(load_path, weather_path, weather_ts_col, building_load_cols,\n",
    "                          load_bid_col_melted, load_val_col_melted):\n",
    "    try:\n",
    "        df_el = pd.read_csv(load_path)\n",
    "        df_weather = pd.read_csv(weather_path)\n",
    "    except FileNotFoundError as e:\n",
    "        print(f\"Error: {e}. Please check your file paths.\")\n",
    "        raise\n",
    "    df_weather[weather_ts_col] = pd.to_datetime(df_weather[weather_ts_col])\n",
    "    df_weather = df_weather.sort_values(by=weather_ts_col)\n",
    "    df_el_timestamped = df_el.copy()\n",
    "    if weather_ts_col not in df_el_timestamped.columns:\n",
    "        num_load_rows, num_weather_rows = len(df_el_timestamped), len(df_weather)\n",
    "        if num_load_rows > num_weather_rows:\n",
    "            df_el_timestamped = df_el_timestamped.iloc[:num_weather_rows]\n",
    "        df_el_timestamped[weather_ts_col] = df_weather[weather_ts_col].values[:len(df_el_timestamped)]\n",
    "    df_el_timestamped[weather_ts_col] = pd.to_datetime(df_el_timestamped[weather_ts_col])\n",
    "    df_load_long = df_el_timestamped.melt(\n",
    "        id_vars=[weather_ts_col], value_vars=building_load_cols,\n",
    "        var_name=load_bid_col_melted, value_name=load_val_col_melted\n",
    "    )\n",
    "    df_merged = pd.merge(df_load_long, df_weather, on=weather_ts_col, how='left')\n",
    "    df_merged = df_merged.sort_values(by=[load_bid_col_melted, weather_ts_col])\n",
    "    return df_merged\n",
    "\n",
    "def create_load_specific_features(df, timestamp_col, group_col, target_col, lags, windows):\n",
    "    df = df.sort_values(by=[group_col, timestamp_col]) \n",
    "    print(f\"  Generating lag features: {lags}\")\n",
    "    for lag in lags:\n",
    "        df[f'{target_col}_lag_{lag}'] = df.groupby(group_col)[target_col].shift(lag)\n",
    "    \n",
    "    if windows: \n",
    "        print(f\"  Generating rolling window features for windows: {windows}\")\n",
    "        for window in windows:\n",
    "            shifted_target = df.groupby(group_col)[target_col].shift(1) # Shift to prevent data leakage\n",
    "            df[f'{target_col}_roll_mean_{window}'] = shifted_target.groupby(df[group_col]).rolling(window=window, min_periods=1).mean().reset_index(level=0, drop=True)\n",
    "            df[f'{target_col}_roll_std_{window}'] = shifted_target.groupby(df[group_col]).rolling(window=window, min_periods=1).std().reset_index(level=0, drop=True)\n",
    "    else:\n",
    "        print(\"  No rolling windows specified.\")\n",
    "    df = df.replace([np.inf, -np.inf], np.nan)\n",
    "    return df\n",
    "\n",
    "def objective_general_model_with_tscv(trial, full_train_val_data_for_general_model, model_features_list):\n",
    "    params = {\n",
    "        'objective': 'regression_l1', 'metric': 'mae', 'verbose': -1, 'n_jobs': -1,\n",
    "        'seed': 42, 'boosting_type': 'gbdt',\n",
    "        'n_estimators': trial.suggest_int('n_estimators_general', 800, 2500, step=100),\n",
    "        'learning_rate': trial.suggest_float('learning_rate_general', 0.005, 0.1, log=True),\n",
    "        'num_leaves': trial.suggest_int('num_leaves_general', 20, 150),\n",
    "        'feature_fraction': trial.suggest_float('feature_fraction_general', 0.4, 1.0),\n",
    "        'bagging_fraction': trial.suggest_float('bagging_fraction_general', 0.4, 1.0),\n",
    "        'bagging_freq': trial.suggest_int('bagging_freq_general', 1, 7),\n",
    "        'min_child_samples': trial.suggest_int('min_child_samples_general', 5, 100),\n",
    "        'reg_alpha': trial.suggest_float('reg_alpha_general', 1e-3, 10.0, log=True),\n",
    "        'reg_lambda': trial.suggest_float('reg_lambda_general', 1e-3, 10.0, log=True),\n",
    "    }\n",
    "    X_all_general = full_train_val_data_for_general_model[model_features_list]\n",
    "    y_all_general = full_train_val_data_for_general_model[LOAD_VALUE_COL_MELTED]\n",
    "    tscv = TimeSeriesSplit(n_splits=5)\n",
    "    fold_maes = []\n",
    "    for fold, (train_idx, val_idx) in enumerate(tscv.split(X_all_general)):\n",
    "        X_train_fold, X_val_fold = X_all_general.iloc[train_idx], X_all_general.iloc[val_idx]\n",
    "        y_train_fold, y_val_fold = y_all_general.iloc[train_idx], y_all_general.iloc[val_idx]\n",
    "        model = lgb.LGBMRegressor(**params)\n",
    "        model.fit(X_train_fold, y_train_fold,\n",
    "                  eval_set=[(X_val_fold, y_val_fold)], eval_metric='mae',\n",
    "                  callbacks=[lgb.early_stopping(EARLY_STOPPING_ROUNDS_OPTUNA, verbose=False)])\n",
    "        preds_val_fold = model.predict(X_val_fold)\n",
    "        mae_val_fold = mean_absolute_error(y_val_fold, preds_val_fold)\n",
    "        fold_maes.append(mae_val_fold)\n",
    "    if not fold_maes: return np.inf\n",
    "    return np.mean(fold_maes)\n",
    "\n",
    "def objective_finetune_target_with_validation(trial, X_target_ft_train, y_target_ft_train, X_target_ft_valid, y_target_ft_valid, init_model_for_ft):\n",
    "    params_ft = {\n",
    "        'objective': 'regression_l1', 'metric': 'mae', 'verbose': -1, 'n_jobs': -1,\n",
    "        'seed': 123, 'boosting_type': 'gbdt',\n",
    "        'n_estimators': trial.suggest_int('ft_n_estimators', 30, 300, step=20),\n",
    "        'learning_rate': trial.suggest_float('ft_learning_rate', 0.0005, 0.05, log=True),\n",
    "        'num_leaves': trial.suggest_int('ft_num_leaves', 5, 40),\n",
    "        'feature_fraction': trial.suggest_float('ft_feature_fraction', 0.5, 1.0),\n",
    "        'bagging_fraction': trial.suggest_float('ft_bagging_fraction', 0.5, 1.0),\n",
    "        'bagging_freq': trial.suggest_int('ft_bagging_freq', 1, 7),\n",
    "        'min_child_samples': trial.suggest_int('ft_min_child_samples', 2, 20),\n",
    "        'reg_alpha': trial.suggest_float('ft_reg_alpha', 1e-2, 5.0, log=True),\n",
    "        'reg_lambda': trial.suggest_float('ft_reg_lambda', 1e-2, 5.0, log=True),\n",
    "    }\n",
    "    model_ft_trial = lgb.LGBMRegressor(**params_ft)\n",
    "    model_ft_trial.fit(X_target_ft_train, y_target_ft_train, \n",
    "                       eval_set=[(X_target_ft_valid, y_target_ft_valid)],\n",
    "                       eval_metric='mae',\n",
    "                       callbacks=[lgb.early_stopping(10, verbose=False)], \n",
    "                       init_model=init_model_for_ft) \n",
    "    preds_ft_valid = model_ft_trial.predict(X_target_ft_valid)\n",
    "    mae_ft_valid = mean_absolute_error(y_target_ft_valid, preds_ft_valid)\n",
    "    return mae_ft_valid\n",
    "\n",
    "# --- Main Script ---\n",
    "def main():\n",
    "    print(\"Starting Load Forecasting\")\n",
    "    print(f\"Target Building ID for this run: {TARGET_BUILDING_ID}\")\n",
    "    print(f\"Training Building IDs: {TRAIN_BUILDING_IDS}\")\n",
    "    print(f\"Lag features: {LAG_FEATURES_LOAD}\")\n",
    "    print(f\"Rolling window features: {ROLLING_WINDOW_LOAD}\")\n",
    "\n",
    "\n",
    "    # 1. Load and Prepare Data\n",
    "    print(\"\\n--- 1. Loading and Preparing Data ---\")\n",
    "    data_df_raw = load_and_prepare_data(\n",
    "        LOAD_DATA_PATH, WEATHER_DATA_PATH, WEATHER_TIMESTAMP_COL,\n",
    "        BUILDING_LOAD_COLS, LOAD_BUILDING_ID_COL_MELTED, LOAD_VALUE_COL_MELTED\n",
    "    )\n",
    "    target_data_check = data_df_raw[data_df_raw[LOAD_BUILDING_ID_COL_MELTED] == TARGET_BUILDING_ID]\n",
    "    if target_data_check.empty: raise ValueError(f\"No data for {TARGET_BUILDING_ID}\")\n",
    "    target_first_ts = target_data_check[WEATHER_TIMESTAMP_COL].min()\n",
    "    target_known_load_end_date = target_first_ts + pd.DateOffset(months=B7_KNOWN_MONTHS) - pd.Timedelta(hours=1)\n",
    "    target_forecast_start_date = target_known_load_end_date + pd.Timedelta(hours=1)\n",
    "    target_forecast_end_date = min(target_forecast_start_date + pd.DateOffset(months=10) - pd.Timedelta(hours=1), data_df_raw[WEATHER_TIMESTAMP_COL].max())\n",
    "    print(f\"Target Building '{TARGET_BUILDING_ID}': Known: {target_first_ts} to {target_known_load_end_date}, Forecast: {target_forecast_start_date} to {target_forecast_end_date}\")\n",
    "\n",
    "    # 2. Feature Engineering\n",
    "    print(\"\\n--- 2. Engineering Load-Specific Features ---\")\n",
    "    data_df_fe = create_load_specific_features(\n",
    "        data_df_raw.copy(), WEATHER_TIMESTAMP_COL, LOAD_BUILDING_ID_COL_MELTED, LOAD_VALUE_COL_MELTED,\n",
    "        LAG_FEATURES_LOAD, ROLLING_WINDOW_LOAD # ROLLING_WINDOW_LOAD is now active\n",
    "    )\n",
    "    generated_load_features = [col for col in data_df_fe.columns if LOAD_VALUE_COL_MELTED + \"_lag_\" in col or LOAD_VALUE_COL_MELTED + \"_roll_\" in col]\n",
    "    MODEL_FEATURE_COLUMNS = MODEL_INPUT_WEATHER_TIME_FEATURES + generated_load_features\n",
    "    MODEL_FEATURE_COLUMNS = sorted(list(set(col for col in MODEL_FEATURE_COLUMNS if col in data_df_fe.columns)))\n",
    "    print(f\"Total features for model (after adding rolling windows): {len(MODEL_FEATURE_COLUMNS)}\")\n",
    "\n",
    "    # 3. Prepare Full Data for General Model TSCV\n",
    "    print(\"\\n--- 3. Preparing Full Data for General Model TSCV ---\")\n",
    "    full_general_model_data_unclean = data_df_fe[data_df_fe[LOAD_BUILDING_ID_COL_MELTED].isin(TRAIN_BUILDING_IDS)].copy()\n",
    "    full_general_model_data_clean = full_general_model_data_unclean.dropna(subset=[LOAD_VALUE_COL_MELTED] + MODEL_FEATURE_COLUMNS).copy()\n",
    "    if full_general_model_data_clean.empty:\n",
    "        raise ValueError(\"No data for general model after initial NaN drop for TSCV.\")\n",
    "    \n",
    "    print(f\"\\n--- Optuna: Tuning General Model with TimeSeriesSplit ({N_TRIALS_GENERAL} trials) ---\")\n",
    "    study_general = optuna.create_study(direction='minimize', study_name=f'general_model_tscv_{TARGET_BUILDING_ID}_iter1')\n",
    "    study_general.optimize(\n",
    "        lambda trial: objective_general_model_with_tscv(trial, full_general_model_data_clean, MODEL_FEATURE_COLUMNS),\n",
    "        n_trials=N_TRIALS_GENERAL, show_progress_bar=True\n",
    "    )\n",
    "    best_general_params_optuna = study_general.best_params\n",
    "    print(\"Optuna Best hyperparameters for general model (from TSCV): \", best_general_params_optuna)\n",
    "    print(f\"Optuna Best average MAE for general model (from TSCV): {study_general.best_value:.4f}\")\n",
    "    \n",
    "    print(\"\\n--- 4. Training Final General LightGBM Model ---\")\n",
    "    general_model_train_val_df = data_df_fe[data_df_fe[LOAD_BUILDING_ID_COL_MELTED].isin(TRAIN_BUILDING_IDS)].copy()\n",
    "    all_train_timestamps_final = sorted(general_model_train_val_df[WEATHER_TIMESTAMP_COL].unique())\n",
    "    split_idx_final = int(len(all_train_timestamps_final) * 0.8)\n",
    "    validation_start_time_final = all_train_timestamps_final[split_idx_final]\n",
    "    train_df_general_final = general_model_train_val_df[general_model_train_val_df[WEATHER_TIMESTAMP_COL] < validation_start_time_final]\n",
    "    valid_df_general_final = general_model_train_val_df[general_model_train_val_df[WEATHER_TIMESTAMP_COL] >= validation_start_time_final]\n",
    "    train_df_general_final_clean = train_df_general_final.dropna(subset=[LOAD_VALUE_COL_MELTED] + MODEL_FEATURE_COLUMNS)\n",
    "    valid_df_general_final_clean = valid_df_general_final.dropna(subset=[LOAD_VALUE_COL_MELTED] + MODEL_FEATURE_COLUMNS)\n",
    "    if train_df_general_final_clean.empty or valid_df_general_final_clean.empty:\n",
    "        raise ValueError(\"Final general model train or validation data empty after NaN drop.\")\n",
    "    X_train_general_final = train_df_general_final_clean[MODEL_FEATURE_COLUMNS]\n",
    "    y_train_general_final = train_df_general_final_clean[LOAD_VALUE_COL_MELTED]\n",
    "    X_valid_general_final = valid_df_general_final_clean[MODEL_FEATURE_COLUMNS]\n",
    "    y_valid_general_final = valid_df_general_final_clean[LOAD_VALUE_COL_MELTED]\n",
    "\n",
    "    final_general_model_params = {\n",
    "        'objective': 'regression_l1', 'metric': 'mae', 'verbose': -1, 'n_jobs': -1,\n",
    "        'seed': 42, 'boosting_type': 'gbdt',\n",
    "    }\n",
    "    final_general_model_params.update({key.replace('_general', ''): value for key, value in best_general_params_optuna.items()})\n",
    "    \n",
    "    general_lgbm_model = lgb.LGBMRegressor(**final_general_model_params)\n",
    "    general_lgbm_model.fit(X_train_general_final, y_train_general_final,\n",
    "                           eval_set=[(X_valid_general_final, y_valid_general_final)],\n",
    "                           eval_metric='mae',\n",
    "                           callbacks=[lgb.early_stopping(EARLY_STOPPING_ROUNDS_OPTUNA + 20, verbose=True)])\n",
    "    \n",
    "    mae_general_valid_final = mean_absolute_error(y_valid_general_final, general_lgbm_model.predict(X_valid_general_final))\n",
    "    mape_general_valid_final = mape(y_valid_general_final, general_lgbm_model.predict(X_valid_general_final))\n",
    "    print(f\"Final General Model Validation MAE (on 20% holdout): {mae_general_valid_final:.4f}, MAPE: {mape_general_valid_final:.2f}%\")\n",
    "\n",
    "    target_finetune_full_known_data = data_df_fe[\n",
    "        (data_df_fe[LOAD_BUILDING_ID_COL_MELTED] == TARGET_BUILDING_ID) &\n",
    "        (data_df_fe[WEATHER_TIMESTAMP_COL] >= target_first_ts) &\n",
    "        (data_df_fe[WEATHER_TIMESTAMP_COL] <= target_known_load_end_date)\n",
    "    ].copy()\n",
    "    target_finetune_full_known_data_clean = target_finetune_full_known_data.dropna(subset=[LOAD_VALUE_COL_MELTED] + MODEL_FEATURE_COLUMNS)\n",
    "    if target_finetune_full_known_data_clean.empty:\n",
    "        raise ValueError(f\"No data for fine-tuning {TARGET_BUILDING_ID}.\")\n",
    "\n",
    "    target_ft_timestamps = sorted(target_finetune_full_known_data_clean[WEATHER_TIMESTAMP_COL].unique())\n",
    "    X_target_ft_train_hpo, y_target_ft_train_hpo, X_target_ft_valid_hpo, y_target_ft_valid_hpo = (None, None, None, None)\n",
    "\n",
    "    if len(target_ft_timestamps) < FINETUNE_VALID_WEEKS * 7 * 24 * 1.5 : \n",
    "         print(f\"Warning: target known data too short for a {FINETUNE_VALID_WEEKS}-week validation split during HPO. Using all for objective.\")\n",
    "         X_target_ft_train_hpo = target_finetune_full_known_data_clean[MODEL_FEATURE_COLUMNS]\n",
    "         y_target_ft_train_hpo = target_finetune_full_known_data_clean[LOAD_VALUE_COL_MELTED]\n",
    "         X_target_ft_valid_hpo = X_target_ft_train_hpo \n",
    "         y_target_ft_valid_hpo = y_target_ft_train_hpo\n",
    "    else:\n",
    "        target_ft_valid_start_offset = pd.DateOffset(weeks=FINETUNE_VALID_WEEKS)\n",
    "        potential_validation_start_time = target_finetune_full_known_data_clean[WEATHER_TIMESTAMP_COL].max() - target_ft_valid_start_offset + pd.Timedelta(hours=1)\n",
    "        target_ft_validation_start_time = max(potential_validation_start_time, target_finetune_full_known_data_clean[WEATHER_TIMESTAMP_COL].min() + pd.Timedelta(days=1)) \n",
    "        target_ft_train_hpo_df = target_finetune_full_known_data_clean[target_finetune_full_known_data_clean[WEATHER_TIMESTAMP_COL] < target_ft_validation_start_time]\n",
    "        target_ft_valid_hpo_df = target_finetune_full_known_data_clean[target_finetune_full_known_data_clean[WEATHER_TIMESTAMP_COL] >= target_ft_validation_start_time]\n",
    "        if target_ft_train_hpo_df.empty or target_ft_valid_hpo_df.empty:\n",
    "            print(\"Warning: target fine-tune HPO train or validation split is empty. Using all target known data for HPO objective.\")\n",
    "            X_target_ft_train_hpo = target_finetune_full_known_data_clean[MODEL_FEATURE_COLUMNS]\n",
    "            y_target_ft_train_hpo = target_finetune_full_known_data_clean[LOAD_VALUE_COL_MELTED]\n",
    "            X_target_ft_valid_hpo = X_target_ft_train_hpo\n",
    "            y_target_ft_valid_hpo = y_target_ft_train_hpo\n",
    "        else:\n",
    "            X_target_ft_train_hpo = target_ft_train_hpo_df[MODEL_FEATURE_COLUMNS]\n",
    "            y_target_ft_train_hpo = target_ft_train_hpo_df[LOAD_VALUE_COL_MELTED]\n",
    "            X_target_ft_valid_hpo = target_ft_valid_hpo_df[MODEL_FEATURE_COLUMNS]\n",
    "            y_target_ft_valid_hpo = target_ft_valid_hpo_df[LOAD_VALUE_COL_MELTED]\n",
    "    print(f\"target HPO Fine-tune train size: {len(X_target_ft_train_hpo if X_target_ft_train_hpo is not None else [])}, HPO Fine-tune valid size: {len(X_target_ft_valid_hpo if X_target_ft_valid_hpo is not None else [])}\")\n",
    "\n",
    "    print(f\"\\n--- Optuna: Tuning target Fine-Tuning Parameters ({N_TRIALS_FINETUNE} trials) ---\")\n",
    "    study_finetune = optuna.create_study(direction='minimize', study_name=f'target_finetune_validated_{TARGET_BUILDING_ID}_iter1')\n",
    "    study_finetune.optimize(\n",
    "        lambda trial: objective_finetune_target_with_validation(\n",
    "            trial, X_target_ft_train_hpo, y_target_ft_train_hpo, \n",
    "            X_target_ft_valid_hpo, y_target_ft_valid_hpo, general_lgbm_model),\n",
    "        n_trials=N_TRIALS_FINETUNE, show_progress_bar=True\n",
    "    )\n",
    "    best_finetune_params_optuna = study_finetune.best_params\n",
    "    print(\"Optuna Best hyperparameters for target fine-tuning: \", best_finetune_params_optuna)\n",
    "    print(f\"Optuna Best MAE on target fine-tune validation: {study_finetune.best_value:.4f}\")\n",
    "\n",
    "    print(f\"\\n--- 5. Fine-tuning Final Model for {TARGET_BUILDING_ID} ---\")\n",
    "    X_target_finetune_final = target_finetune_full_known_data_clean[MODEL_FEATURE_COLUMNS]\n",
    "    y_target_finetune_final = target_finetune_full_known_data_clean[LOAD_VALUE_COL_MELTED]\n",
    "    final_finetune_model_params = {\n",
    "        'objective': 'regression_l1', 'metric': 'mae', 'verbose': -1, 'n_jobs': -1,\n",
    "        'seed': 123, 'boosting_type': 'gbdt',\n",
    "    }\n",
    "    final_finetune_model_params.update({key.replace('ft_', ''): value for key, value in best_finetune_params_optuna.items()})\n",
    "    target_finetuned_model = lgb.LGBMRegressor(**final_finetune_model_params)\n",
    "    target_finetuned_model.fit(X_target_finetune_final, y_target_finetune_final, init_model=general_lgbm_model)\n",
    "    mae_target_finetune_on_own = mean_absolute_error(y_target_finetune_final, target_finetuned_model.predict(X_target_finetune_final))\n",
    "    mape_target_finetune_on_own = mape(y_target_finetune_final, target_finetuned_model.predict(X_target_finetune_final))\n",
    "    print(f\"target MAE on its own full 2-month data (after final fine-tuning): {mae_target_finetune_on_own:.4f}, MAPE: {mape_target_finetune_on_own:.2f}%\")\n",
    "\n",
    "    print(f\"\\n--- 6. Recursive Forecasting for {TARGET_BUILDING_ID} (using Fine-tuned Model) ---\")\n",
    "    target_forecast_df_full = data_df_fe[data_df_fe[LOAD_BUILDING_ID_COL_MELTED] == TARGET_BUILDING_ID].copy()\n",
    "    target_forecast_df_full = target_forecast_df_full.sort_values(by=WEATHER_TIMESTAMP_COL).set_index(WEATHER_TIMESTAMP_COL)\n",
    "    target_actuals_for_forecast_period = data_df_raw[\n",
    "        (data_df_raw[LOAD_BUILDING_ID_COL_MELTED] == TARGET_BUILDING_ID) &\n",
    "        (data_df_raw[WEATHER_TIMESTAMP_COL] >= target_forecast_start_date) &\n",
    "        (data_df_raw[WEATHER_TIMESTAMP_COL] <= target_forecast_end_date)\n",
    "    ][LOAD_VALUE_COL_MELTED].values\n",
    "    target_predictions_recursive = []\n",
    "    forecast_timestamps_target = pd.date_range(start=target_forecast_start_date, end=target_forecast_end_date, freq='H')\n",
    "    target_working_forecast_df = target_forecast_df_full.copy()\n",
    "    for current_time_step in forecast_timestamps_target:\n",
    "        current_features_series = target_working_forecast_df.loc[current_time_step].copy()\n",
    "        X_pred_step_df = pd.DataFrame([current_features_series[MODEL_FEATURE_COLUMNS]], columns=MODEL_FEATURE_COLUMNS)\n",
    "        if X_pred_step_df.isnull().values.any(): X_pred_step_df = X_pred_step_df.fillna(0) \n",
    "        predicted_load_step = target_finetuned_model.predict(X_pred_step_df)[0]\n",
    "        target_predictions_recursive.append(predicted_load_step)\n",
    "        target_working_forecast_df.loc[current_time_step, LOAD_VALUE_COL_MELTED] = predicted_load_step\n",
    "        next_ts_for_lag_update = current_time_step + pd.Timedelta(hours=1)\n",
    "        if next_ts_for_lag_update <= target_forecast_end_date and f'{LOAD_VALUE_COL_MELTED}_lag_1' in target_working_forecast_df.columns:\n",
    "            if next_ts_for_lag_update in target_working_forecast_df.index : # Ensure the index exists\n",
    "                 target_working_forecast_df.loc[next_ts_for_lag_update, f'{LOAD_VALUE_COL_MELTED}_lag_1'] = predicted_load_step\n",
    "    target_predictions_recursive = np.array(target_predictions_recursive)\n",
    "    \n",
    "    if len(target_actuals_for_forecast_period) == len(target_predictions_recursive) and len(target_actuals_for_forecast_period) > 0 :\n",
    "        target_forecast_mae = mean_absolute_error(target_actuals_for_forecast_period, target_predictions_recursive)\n",
    "        target_forecast_mape = mape(target_actuals_for_forecast_period, target_predictions_recursive)\n",
    "        print(f\"\\nMAE on {TARGET_BUILDING_ID}'s forecast (original scale, after fine-tuning): {target_forecast_mae:.4f}, MAPE: {target_forecast_mape:.2f}%\")\n",
    "    else:\n",
    "        min_len = min(len(target_actuals_for_forecast_period), len(target_predictions_recursive))\n",
    "        if min_len > 0 :\n",
    "            target_forecast_mae_partial = mean_absolute_error(target_actuals_for_forecast_period[:min_len], target_predictions_recursive[:min_len])\n",
    "            target_forecast_mape_partial = mape(target_actuals_for_forecast_period[:min_len], target_predictions_recursive[:min_len])\n",
    "            print(f\"\\nMAE on {TARGET_BUILDING_ID}'s forecast (partial {min_len} steps, original scale, after fine-tuning): {target_forecast_mae_partial:.4f}, MAPE: {target_forecast_mape_partial:.2f}%\")\n",
    "        else:\n",
    "            print(f\"\\nCould not calculate MAE/MAPE for {TARGET_BUILDING_ID} forecast period (actuals length: {len(target_actuals_for_forecast_period)}, preds length: {len(target_predictions_recursive)}).\")\n",
    "\n",
    "    # print(\"\\n--- 7. Saving Submission File ---\")\n",
    "    # if len(forecast_timestamps_target) == len(target_predictions_recursive):\n",
    "    #     submission_df_lgbm = pd.DataFrame({'timestamp': forecast_timestamps_target, 'building_id': TARGET_BUILDING_ID,'predicted_load': target_predictions_recursive})\n",
    "    #     submission_df_lgbm.to_csv(f'submission_{TARGET_BUILDING_ID}.csv', index=False)\n",
    "    #     print(f\"Submission file 'submission_{TARGET_BUILDING_ID}.csv' saved.\")\n",
    "    # else:\n",
    "    #     print(\"Warning: Submission not saved due to length mismatch.\")\n",
    "\n",
    "\n",
    "if __name__ == '__main__':\n",
    "\n",
    "    main()"
   ]
  },
  {
   "cell_type": "code",
   "execution_count": null,
   "id": "0c2a31ab",
   "metadata": {},
   "outputs": [],
   "source": []
  }
 ],
 "metadata": {
  "kernelspec": {
   "display_name": "Python 3",
   "language": "python",
   "name": "python3"
  },
  "language_info": {
   "codemirror_mode": {
    "name": "ipython",
    "version": 3
   },
   "file_extension": ".py",
   "mimetype": "text/x-python",
   "name": "python",
   "nbconvert_exporter": "python",
   "pygments_lexer": "ipython3",
   "version": "3.9.18"
  }
 },
 "nbformat": 4,
 "nbformat_minor": 5
}
